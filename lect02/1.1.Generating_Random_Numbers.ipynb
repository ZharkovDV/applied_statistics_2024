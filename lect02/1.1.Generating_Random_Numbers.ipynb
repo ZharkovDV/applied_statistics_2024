{
 "cells": [
  {
   "cell_type": "markdown",
   "metadata": {},
   "source": [
    "## Генерация случайных величин"
   ]
  },
  {
   "cell_type": "markdown",
   "metadata": {},
   "source": [
    "Python (и все другое програмное обеспечение) генерирует случайные числа с помощью формул, так что они не на самом деле случайные, а, как говорят, псевдослучайные. Этот способ удобен для большинства приложений. Генерировать случайные числа мы будем с помощью numpy."
   ]
  },
  {
   "cell_type": "code",
   "execution_count": 1,
   "metadata": {},
   "outputs": [],
   "source": [
    "import numpy as np\n"
   ]
  },
  {
   "cell_type": "markdown",
   "metadata": {},
   "source": [
    "### Seed"
   ]
  },
  {
   "cell_type": "markdown",
   "metadata": {},
   "source": [
    "Для того, чтобы каждый раз при использовании генератора псевдослучайных чисел получать идентичные последовательности, используется функция set.seed (от set - задать, установить, и seed - начальное число). Как следует из названия, эта функция фиксирует число, служащее начальной точкой для запуска алгоритма генерации псевдослучайных чисел. В качестве аргумента функции указывают любое целое число (не важно, какое именно). "
   ]
  },
  {
   "cell_type": "markdown",
   "metadata": {},
   "source": [
    "* **np.random.seed(<число>)** —\n",
    "настраивает генератор случайных чисел на новую последовательность. Если данная функция в программе не вызывается, по умолчанию используется системное время. "
   ]
  },
  {
   "cell_type": "code",
   "execution_count": 2,
   "metadata": {},
   "outputs": [
    {
     "name": "stdout",
     "output_type": "stream",
     "text": [
      "0.417022004702574\n",
      "0.7203244934421581\n"
     ]
    }
   ],
   "source": [
    "np.random.seed(1) # Зафиксируем seed\n",
    "print(np.random.rand()) # первое случайное число\n",
    "print(np.random.rand()) # второе случайное число; оно будет отличаться от предыдущего"
   ]
  },
  {
   "cell_type": "code",
   "execution_count": 3,
   "metadata": {},
   "outputs": [
    {
     "name": "stdout",
     "output_type": "stream",
     "text": [
      "0.417022004702574\n",
      "0.7203244934421581\n"
     ]
    }
   ],
   "source": [
    "# Но если мы обновим seed, то наша случайная последовательность будет генерироваться <<сначала>>\n",
    "np.random.seed(1) \n",
    "print(np.random.rand())\n",
    "print(np.random.rand())"
   ]
  },
  {
   "cell_type": "markdown",
   "metadata": {},
   "source": [
    "### Равномерное распределение"
   ]
  },
  {
   "cell_type": "markdown",
   "metadata": {},
   "source": [
    "* **np.random.rand($\\,\\mathbf{d_0, d_1, \\ldots, d_n}$)**  — генерирует массив размера $d_0\\times d_1 \\times \\ldots \\times d_n$ из равномерно распределенных на [0,1] случайных величин."
   ]
  },
  {
   "cell_type": "code",
   "execution_count": 4,
   "metadata": {},
   "outputs": [
    {
     "data": {
      "text/plain": [
       "0.00011437481734488664"
      ]
     },
     "execution_count": 4,
     "metadata": {},
     "output_type": "execute_result"
    }
   ],
   "source": [
    "np.random.rand() # просто одно число"
   ]
  },
  {
   "cell_type": "code",
   "execution_count": 5,
   "metadata": {},
   "outputs": [
    {
     "data": {
      "text/plain": [
       "array([0.30233257, 0.14675589, 0.09233859, 0.18626021, 0.34556073,\n",
       "       0.39676747, 0.53881673, 0.41919451, 0.6852195 , 0.20445225])"
      ]
     },
     "execution_count": 5,
     "metadata": {},
     "output_type": "execute_result"
    }
   ],
   "source": [
    "np.random.rand(10) # одномерный массив из 10 чисел"
   ]
  },
  {
   "cell_type": "code",
   "execution_count": 8,
   "metadata": {},
   "outputs": [
    {
     "data": {
      "text/plain": [
       "array([[0.69232262, 0.87638915],\n",
       "       [0.89460666, 0.08504421],\n",
       "       [0.03905478, 0.16983042],\n",
       "       [0.8781425 , 0.09834683],\n",
       "       [0.42110763, 0.95788953]])"
      ]
     },
     "execution_count": 8,
     "metadata": {},
     "output_type": "execute_result"
    }
   ],
   "source": [
    "np.random.rand(5,2) # двумерный массив размера [5,2]"
   ]
  },
  {
   "cell_type": "markdown",
   "metadata": {},
   "source": [
    "Для генерации из равномерного распределения на произвольном интервале можно использовать функцию:   \n",
    "* **np.random.uniform([low, high, size])** — герирует массив размера [size] из равномерного распределения на $[low,high]$.\n",
    "\n",
    "П.С. Альтернативно можно сгенерировать равномерно распределенные на $[0,1]$ случайные величины и применить к ним линейное преобразование"
   ]
  },
  {
   "cell_type": "code",
   "execution_count": 10,
   "metadata": {},
   "outputs": [
    {
     "data": {
      "text/plain": [
       "array([[8.94639664, 5.51613003],\n",
       "       [7.23946763, 9.54297752],\n",
       "       [6.46807074, 6.43887669],\n",
       "       [5.65014286, 5.09683479],\n",
       "       [8.39417766, 6.05814058]])"
      ]
     },
     "execution_count": 10,
     "metadata": {},
     "output_type": "execute_result"
    }
   ],
   "source": [
    "np.random.uniform(5,10, size=[5,2])"
   ]
  },
  {
   "cell_type": "markdown",
   "metadata": {},
   "source": [
    "Все следующие фукнции герерируют одномерный массив размера [size] из равномерно распределенных на [0,1] случайных величин. Но лучше пользоваться функциями **np.random.rand** или **np.random.uniform**, они чаще используются исследователями и программистами.\n",
    "\n",
    "* **np.random.random_sample([size])**  \n",
    "* **np.random.random([size])**  \n",
    "* **np.random.ranf([size])**  \n",
    "* **np.random.sample([size])**    "
   ]
  },
  {
   "cell_type": "code",
   "execution_count": 11,
   "metadata": {},
   "outputs": [
    {
     "data": {
      "text/plain": [
       "array([0.26554666, 0.49157316, 0.05336255, 0.57411761, 0.14672857,\n",
       "       0.58930554, 0.69975836, 0.10233443, 0.41405599, 0.69440016])"
      ]
     },
     "execution_count": 11,
     "metadata": {},
     "output_type": "execute_result"
    }
   ],
   "source": [
    "np.random.ranf(10)"
   ]
  },
  {
   "cell_type": "markdown",
   "metadata": {},
   "source": [
    "Следующие функции генерируют случайные числа из равномерного распределения на целых числах:  \n",
    "* **np.random.randint(low[, high, size, dtype])** — здесь вернхнее значение не включается в диапазон.  \n",
    "* **np.random.random_integers(low[, high, size])** — здесь вернхнее значение включается в диапазон (но эта функция устарела, лучше использовать предыдущую).  "
   ]
  },
  {
   "cell_type": "code",
   "execution_count": 12,
   "metadata": {},
   "outputs": [
    {
     "data": {
      "text/plain": [
       "array([[ 2, -1,  7,  5,  3,  4,  5,  1,  4,  6],\n",
       "       [ 7,  3,  3,  6,  6,  3,  8, -1,  1, -1]])"
      ]
     },
     "execution_count": 12,
     "metadata": {},
     "output_type": "execute_result"
    }
   ],
   "source": [
    "np.random.randint(-1, 10, size = [2,10])"
   ]
  },
  {
   "cell_type": "code",
   "execution_count": null,
   "metadata": {},
   "outputs": [],
   "source": [
    "np.random.random_integers(-1, 10, size= [2,10])"
   ]
  },
  {
   "cell_type": "markdown",
   "metadata": {},
   "source": [
    "### Случайные перестановки и случайный выбор"
   ]
  },
  {
   "cell_type": "markdown",
   "metadata": {},
   "source": [
    "Везде далее в качестве **x** можно использовать различные объекты: строку, список, кортеж..."
   ]
  },
  {
   "cell_type": "markdown",
   "metadata": {},
   "source": [
    "* **np.random.shuffle(x)** — случайная перестановка последовательности **x** (меняет сам **x**, ничего не возвращает).  \n",
    "* **np.random.permutation(x)** — случайная перестановка последовательности **x** (не меняет **x**, возвращает перестановку).\n"
   ]
  },
  {
   "cell_type": "code",
   "execution_count": null,
   "metadata": {},
   "outputs": [],
   "source": [
    "# для np.random.permutation следующий код имеет смысл\n",
    "a = np.arange(5)\n",
    "b = np.random.permutation(a)\n",
    "print(a)\n",
    "print(b)"
   ]
  },
  {
   "cell_type": "code",
   "execution_count": null,
   "metadata": {},
   "outputs": [],
   "source": [
    "# для np.random.shuffle — нет, так как мы поменяем a, и ничего не присвоим b\n",
    "a = np.arange(5)\n",
    "b = np.random.shuffle(a) \n",
    "print(a)\n",
    "print(b)"
   ]
  },
  {
   "cell_type": "markdown",
   "metadata": {},
   "source": [
    "* **random.choince(x)** — возвращает случайный элемент из последовательности **x**."
   ]
  },
  {
   "cell_type": "code",
   "execution_count": null,
   "metadata": {},
   "outputs": [],
   "source": [
    "np.random.choice([1,2,3,7,0,88])"
   ]
  },
  {
   "cell_type": "markdown",
   "metadata": {},
   "source": [
    "### Нормальное распределение"
   ]
  },
  {
   "cell_type": "markdown",
   "metadata": {},
   "source": [
    "* **np.random.randn($\\,\\mathbf{d_0, d_1, \\ldots, d_n}$)**  — генерирует массив размера $d_0\\times d_1 \\times \\ldots \\times d_n$ из стандартного нормального распределения $\\mathcal{N}(0,1)$. "
   ]
  },
  {
   "cell_type": "code",
   "execution_count": 13,
   "metadata": {},
   "outputs": [
    {
     "data": {
      "text/plain": [
       "0.5882941639193973"
      ]
     },
     "execution_count": 13,
     "metadata": {},
     "output_type": "execute_result"
    }
   ],
   "source": [
    "np.random.randn() # генерируем одно число"
   ]
  },
  {
   "cell_type": "code",
   "execution_count": 14,
   "metadata": {},
   "outputs": [
    {
     "data": {
      "text/plain": [
       "array([[ 0.34685933,  1.3670327 ,  0.67371607],\n",
       "       [-1.2915627 , -0.84824392, -0.16659957]])"
      ]
     },
     "execution_count": 14,
     "metadata": {},
     "output_type": "execute_result"
    }
   ],
   "source": [
    "np.random.randn(2,3) # генерируем массив нужного размера"
   ]
  },
  {
   "cell_type": "markdown",
   "metadata": {},
   "source": [
    "Следующая функция делает то же самое, но у нее немного другой синтаксис. Лучше пользоваться **np.random.randn**.   \n",
    "* **np.random.standard_normal([size])** — генерирует массив размера [size] из стандартного нормального распределения $\\mathcal{N}(0,1)$.\n",
    "\n"
   ]
  },
  {
   "cell_type": "code",
   "execution_count": null,
   "metadata": {},
   "outputs": [],
   "source": [
    "np.random.standard_normal([2,5])"
   ]
  },
  {
   "cell_type": "markdown",
   "metadata": {},
   "source": [
    "Для нормального распредления с произвольными параметрами можно использовать следующую функцию:   \n",
    "* **np.random.normal([loc, scale, size])** — генерируют массив размера [size] из нормального распределения $\\mathcal{N}\\bigl(loc,(scale)^2\\bigr)$."
   ]
  },
  {
   "cell_type": "code",
   "execution_count": 16,
   "metadata": {},
   "outputs": [
    {
     "data": {
      "text/plain": [
       "array([[4.57617415, 1.90655186],\n",
       "       [7.09040125, 7.02075096],\n",
       "       [5.14167329, 6.43517965],\n",
       "       [4.49859018, 4.89694014],\n",
       "       [5.02625781, 5.40447811]])"
      ]
     },
     "execution_count": 16,
     "metadata": {},
     "output_type": "execute_result"
    }
   ],
   "source": [
    "np.random.normal(5,2, size = [5,2])"
   ]
  },
  {
   "cell_type": "markdown",
   "metadata": {},
   "source": [
    "Чтобы сгенерировать многомерное нормальное распределение, можно воспользоваться следующей функцией:\n",
    "* **np.random.multivariate_normal(mean, cov, [size])** — генерируют массив размера [size] из многомерного нормального распределения $\\mathcal{N}(mean,cov)$."
   ]
  },
  {
   "cell_type": "code",
   "execution_count": null,
   "metadata": {},
   "outputs": [],
   "source": [
    "d = 5 \n",
    "mean = np.ones(d)\n",
    "cov = 5*np.eye(d)\n",
    "np.random.multivariate_normal(mean, cov, size = 3) "
   ]
  },
  {
   "cell_type": "code",
   "execution_count": 25,
   "metadata": {},
   "outputs": [
    {
     "data": {
      "text/plain": [
       "<matplotlib.legend.Legend at 0x11dcafdd0>"
      ]
     },
     "execution_count": 25,
     "metadata": {},
     "output_type": "execute_result"
    },
    {
     "data": {
      "image/png": "[encoded data removed]",
      "text/plain": [
       "<Figure size 640x480 with 1 Axes>"
      ]
     },
     "metadata": {},
     "output_type": "display_data"
    }
   ],
   "source": [
    "import matplotlib.pyplot as plt\n",
    "\n",
    "x = np.random.normal(5,2, size = [1000,100000])\n",
    "medians = np.median(x, axis = 1)\n",
    "means = x.mean(axis = 1)\n",
    "\n",
    "_ = plt.hist(medians, label = 'medians')\n",
    "_ = plt.hist(means, label = 'means')\n",
    "plt.legend()\n"
   ]
  },
  {
   "cell_type": "code",
   "execution_count": 42,
   "metadata": {},
   "outputs": [],
   "source": [
    "x = np.random.normal(5,2, size = 1000)"
   ]
  },
  {
   "cell_type": "code",
   "execution_count": 49,
   "metadata": {},
   "outputs": [],
   "source": [
    "def hl(x):\n",
    "    hl_list = []\n",
    "    for i in range(len(x)):\n",
    "        for j in range(i, len(x)):\n",
    "            hl_list.append((x[i]+x[j])/2)\n",
    "    \n",
    "    return np.median(hl_list)"
   ]
  },
  {
   "cell_type": "code",
   "execution_count": 50,
   "metadata": {},
   "outputs": [
    {
     "name": "stderr",
     "output_type": "stream",
     "text": [
      "100%|███████████████████████████████████████| 1000/1000 [01:29<00:00, 11.21it/s]\n"
     ]
    }
   ],
   "source": [
    "from tqdm import tqdm\n",
    "means = []\n",
    "hls = []\n",
    "\n",
    "for _ in tqdm(range(1000)):\n",
    "    x = np.random.normal(5,2, size = 1000)\n",
    "    means.append(x.mean())\n",
    "    hls.append(hl(x))"
   ]
  },
  {
   "cell_type": "code",
   "execution_count": 52,
   "metadata": {},
   "outputs": [
    {
     "data": {
      "text/plain": [
       "<matplotlib.legend.Legend at 0x11dd7fd10>"
      ]
     },
     "execution_count": 52,
     "metadata": {},
     "output_type": "execute_result"
    },
    {
     "data": {
      "image/png": "[encoded data removed]",
      "text/plain": [
       "<Figure size 640x480 with 1 Axes>"
      ]
     },
     "metadata": {},
     "output_type": "display_data"
    }
   ],
   "source": [
    "_ = plt.hist(hls, label = 'hl-estimators')\n",
    "_ = plt.hist(means, label = 'means')\n",
    "plt.legend()"
   ]
  },
  {
   "cell_type": "markdown",
   "metadata": {},
   "source": [
    "### Другие распределения"
   ]
  },
  {
   "cell_type": "markdown",
   "metadata": {},
   "source": [
    "В качестве примера приведем еще фукции для распределений, которые мы упоминали в курсе по теории вероятностей:\n",
    "* **np.random.binomial(n, p[, size])** — биномиальное распределение  \n",
    "* **np.random.exponential([scale, size])** — экспоненциальное распределение  \n",
    "* **np.random.poisson([lam, size])** — распределение Пуассона  \n",
    "* **np.random.standard_cauchy([size])** — распределение Коши  "
   ]
  },
  {
   "cell_type": "markdown",
   "metadata": {},
   "source": [
    "Полный список распределений можно посмотреть на: https://docs.scipy.org/doc/numpy-1.15.0/reference/routines.random.html"
   ]
  }
 ],
 "metadata": {
  "kernelspec": {
   "display_name": "Python 3 (ipykernel)",
   "language": "python",
   "name": "python3"
  },
  "language_info": {
   "codemirror_mode": {
    "name": "ipython",
    "version": 3
   },
   "file_extension": ".py",
   "mimetype": "text/x-python",
   "name": "python",
   "nbconvert_exporter": "python",
   "pygments_lexer": "ipython3",
   "version": "3.11.7"
  }
 },
 "nbformat": 4,
 "nbformat_minor": 4
}
