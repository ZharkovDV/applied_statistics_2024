{
 "cells": [
  {
   "cell_type": "markdown",
   "metadata": {},
   "source": [
    "# Методы понижения дисперсии: Стратификация и CUPED\n",
    "\n",
    "*Подготовил Ян Пиле*"
   ]
  },
  {
   "cell_type": "markdown",
   "metadata": {},
   "source": [
    "К настоящему моменту мы разобрали довольно много различных статистических тестов (особенно на прошлой лекции). Давайте вспомним чего ради мы все это затеяли.\n",
    "\n",
    "Все методы, на самом деле, вам нужны, чтобы отвечать на вопрос \"является ли отличие в двух измеренных показателях статистически значимым?\", то есть \"насколько вероятно было бы получить такой или еще более экстремальный результат случайно\". С точки зрения АБ-тестов это можно переформулировать как \"повлияло ли мое изменение на целевые метрики\". Мы увидели, что различные статистические тесты обладают разной чувствительностью и договорились из подходящих методов выбирать тот, у которого чувствительность выше. На самом деле, нетрудно вспомнить, что качество статистической оценки зависит от дисперсии измеряемого показателя в группах. Вспомним, например, построение доверительных интервалов с помощью ЦПТ:\n",
    "\n",
    "$$P(\\overline{X_n}-z_{1-\\frac{\\alpha}{2}}\\dfrac{\\sigma}{\\sqrt{n}} \\le \\mu \\le \\overline{X_n}+z_{1-\\frac{\\alpha}{2}}\\dfrac{\\sigma}{\\sqrt{n}}) = 1-\\alpha$$"
   ]
  },
  {
   "cell_type": "markdown",
   "metadata": {},
   "source": [
    "Тут мы говорили, что на выборке бОльшего размера доверительный интервал становится уже (в самом деле, там же корень из длины выборки в знаменателе). Это означает, что мы будем точнее оценивать нашу величину, если в выборке, по которой производится оценка, будет больше наблюдений. В реальной жизни мы почти никогда не можем неограниченно увеличивать *n*. Представьте, что вы проводите эксперимент, связанный с тем, как ваши пользователи кликают в рекламные баннеры. Представим, что в среднем на ваш сайт заходит 5000 уникальных пользователей в день. Вы подсчитали минимальный эффект, который вы хотите детектировать с помощью АБ-теста и посмотрели, на каком размере выборки вам это удастся: оказалось, что необходимо 150000 пользователей. Все? вам надо проводить свой эксперимент на всех пользователях не менее двух месяцев (если вы всех своих пользователей поделите пополам)?"
   ]
  },
  {
   "cell_type": "markdown",
   "metadata": {},
   "source": [
    "Кроме того, чем меньше эффект, тем сложнее его будет обнаруживать. Представьте, например, что ваш продукт - ecom-сайт со средней конверсией около 2%. Если воспользоваться [калькулятором](https://bookingcom.github.io/powercalculator/) АБ-тестов от Booking, видно, что для обнаружения относительного изменения конверсии на 1% потребуется эксперимент с более чем 12 миллионами пользователей (с методологией расчета лучше ознакомиться непосредственно на GitHub'e, но порядок величин уж точно похож на правду. \n",
    "\n",
    "Проблема обнаружения небольших эффектов в эксперименте связана с низкой статистической мощностью. При низкой мощности статистический тест, скорее всего, сообщат о незначимой разнице между тестом и контролем, даже если изменение имеет быть. Мощность недостаточна, если эффект мал по сравнению с дисперсией измеряемого показателя для вашего размера выборки."
   ]
  },
  {
   "cell_type": "markdown",
   "metadata": {},
   "source": [
    "На самом деле, вместо того, чтобы наращивать выборку, мы могли бы начать измерять метрику как-то по-другому, чтобы понизить ее дисперсию. Давайте разберемся, как это сделать."
   ]
  },
  {
   "cell_type": "markdown",
   "metadata": {},
   "source": [
    "## Откуда дисперсия в экспериментальных данных\n",
    "\n",
    "Дисперсия характеризует разброс данных. Частична она вызвана эффектом, который мы привнесли с помощью эксперимента в измеряемый показатель, а частично - просто поведением метрики самой по себе (дисперсия была и до эксперимента). Давайте попробуем посмотреть, как ее можно \"убавить\".\n",
    "\n"
   ]
  },
  {
   "cell_type": "markdown",
   "metadata": {},
   "source": [
    "## Стратификация\n",
    "\n",
    "Пусть у нас есть некоторая величина $Y$, у которой мы хотим оценить мат.ожидание $E(Y)$. Как бы мы стали это делать по умолчанию? Ну, можно было бы взять *n* независимых измерений жтой величины и потом по выборке посчитать среднее. При этом получиласт бы величина $\\overline{Y}$ с дисперсией примерно $var(\\overline{Y})=\\dfrac{var(Y)}{n}$\n",
    "\n",
    "Представим, что в наших наблюдениях есть явная стратификация (например по возрасту: младший, средний и старший) и мы явным образом можем семплировать наших пользователей из каждого возраста (удостовериться, что в эксперименте пропорции страт будут как в генеральной совокупности). Тогда если вероятность того, что пользователь окажется в страте номер $k$ равна $w_k$ и для выборки длины *n* мы хоти достать $w_k*n$ пользователей, можно определить новую величину:\n",
    "\n",
    "$$\\overline{Y}_{stratified} = \\sum_k{w_k \\overline{Y}_k}$$\n",
    "\n",
    "где $\\overline{Y}_k$ - среднее внутри страты номер *k*. Что интересно, такая оценка будет иметь дисперсию НЕ БОЛЬШЕ, чем исходная:\n",
    "\n",
    "$$var(\\overline{Y})=\\sum_k{w_k\\dfrac{\\sigma^2_k}{n}}+\\sum_k{w_k\\dfrac{(\\mu_k - \\mu)^2}{n}} \\ge \\sum_k{w_k\\dfrac{\\sigma^2_k}{n}} = var(\\overline{Y}_{stratified})$$"
   ]
  },
  {
   "cell_type": "markdown",
   "metadata": {},
   "source": [
    "На самом деле, здесь мы УЖЕ использовали предэкспериментальные данные. Мы \"объяснили\" часть дисперсии с помощью категориальной переменной, которая маркировала наши страты. Посмотрим на прмер."
   ]
  },
  {
   "cell_type": "markdown",
   "metadata": {},
   "source": [
    "##  Пример\n",
    "\n",
    "Пусть есть некий показатель, распределенный нормально в трех различных стратах:\n",
    "\n",
    "* В первой - со средним 30 и дисперсией 200 (размер страты 5000)\n",
    "* Во второй - со средним 20 и дисперсией 20 (размер страты 50000)\n",
    "* В третьей - со средним 40 и дисперсией 5 (размер страты 5000)"
   ]
  },
  {
   "cell_type": "code",
   "execution_count": 2,
   "metadata": {},
   "outputs": [],
   "source": [
    "import numpy as np\n",
    "import matplotlib.pyplot as plt\n",
    "\n",
    "strata_1 = np.random.normal(30, 200, 5000)\n",
    "strata_2 = np.random.normal(20, 20, 50000)\n",
    "strata_3  = np.random.normal(43, 5, 5000)\n",
    "total_data = np.concatenate((strata_1, strata_2, strata_3))"
   ]
  },
  {
   "cell_type": "code",
   "execution_count": 4,
   "metadata": {},
   "outputs": [
    {
     "data": {
      "image/png": "[encoded data removed]",
      "text/plain": [
       "<Figure size 640x480 with 1 Axes>"
      ]
     },
     "metadata": {},
     "output_type": "display_data"
    }
   ],
   "source": [
    "_ = plt.hist(total_data)"
   ]
  },
  {
   "cell_type": "markdown",
   "metadata": {},
   "source": [
    "Давайте извлечем из нашей генеральной совокупности 200 выборок по 6000 наблюдений каждая в двух вариантах:\n",
    "\n",
    "* Стратифицированном\n",
    "* Нестратифицированном\n",
    "\n",
    "На каждой из выборок посчитаем дисперсию и среднее и усредним эти показатели, а потом посмотрим, где дисперсия оказалась больше и насколько."
   ]
  },
  {
   "cell_type": "code",
   "execution_count": 5,
   "metadata": {},
   "outputs": [
    {
     "data": {
      "text/plain": [
       "0.08333333333333333"
      ]
     },
     "execution_count": 5,
     "metadata": {},
     "output_type": "execute_result"
    }
   ],
   "source": [
    "5000/(50000+5000+5000)"
   ]
  },
  {
   "cell_type": "code",
   "execution_count": 41,
   "metadata": {},
   "outputs": [
    {
     "data": {
      "text/plain": [
       "(60000,)"
      ]
     },
     "execution_count": 41,
     "metadata": {},
     "output_type": "execute_result"
    }
   ],
   "source": [
    "total_data.shape"
   ]
  },
  {
   "cell_type": "code",
   "execution_count": 9,
   "metadata": {},
   "outputs": [],
   "source": [
    "from tqdm import tqdm"
   ]
  },
  {
   "cell_type": "code",
   "execution_count": 10,
   "metadata": {},
   "outputs": [
    {
     "name": "stderr",
     "output_type": "stream",
     "text": [
      "100%|███████████████████████████████████████████████████████████████████████████████████████████████████████████████████| 200/200 [02:35<00:00,  1.29it/s]\n"
     ]
    }
   ],
   "source": [
    "standard_mean = []\n",
    "stratified_mean = []\n",
    "\n",
    "n_samples = 200\n",
    "sample_size = 1000\n",
    "\n",
    "\n",
    "for i in tqdm(range(n_samples)):\n",
    "    res = []\n",
    "    sample = np.random.choice(total_data, n_samples, False)\n",
    "    standard_mean += [np.mean(sample)]\n",
    "    \n",
    "    for _ in range(sample_size):\n",
    "        random = np.random.random()\n",
    "        if random  < 5000/(50000+5000+5000):\n",
    "            res.append(np.random.choice(strata_1,replace = False))\n",
    "        elif random  > 5000/(50000+5000+5000) and random < (5000+50000)/(50000+5000+5000):\n",
    "            res.append(np.random.choice(strata_2,replace = False))\n",
    "        else:\n",
    "            res.append(np.random.choice(strata_3,replace = False))\n",
    "    stratified_mean += [np.mean(res)]"
   ]
  },
  {
   "cell_type": "code",
   "execution_count": 11,
   "metadata": {},
   "outputs": [
    {
     "name": "stdout",
     "output_type": "stream",
     "text": [
      "Среднее 22.5070255008117\n",
      "Стратифицированное среднее 22.48470610263776\n",
      "Дисперсия среднего на стандартных выборках 19.739525147869976\n",
      "Дисперсия среднего на стратифицированных выборках 3.6302036401173723\n"
     ]
    }
   ],
   "source": [
    "print('Среднее', np.mean(standard_mean))\n",
    "print('Стратифицированное среднее', np.mean(stratified_mean))\n",
    "\n",
    "print('Дисперсия среднего на стандартных выборках', np.var(standard_mean))\n",
    "print('Дисперсия среднего на стратифицированных выборках', np.var(stratified_mean))"
   ]
  },
  {
   "cell_type": "markdown",
   "metadata": {},
   "source": [
    "Как видите, в данном случае стратификация понизила дисперсию. Попробуйте теоретически оценить, насколько понизится дисперсия показателя, если взять обычную выборку и стратифицированную выборку длины 7000."
   ]
  },
  {
   "cell_type": "markdown",
   "metadata": {},
   "source": [
    "## CUPED\n",
    "\n",
    "also known as **C**ontrolled Experiment **u**sing **P**re-**E**xperimental **D**ata\n",
    "\n",
    "Часть дисперсии, которую могут объяснить данные до эксперимента, не связана с нашим влиянием и, следовательно, может быть из эксперимента удалена. Давайте представим, что мы booking.com и проводим рекламный эксперимент с объектами недвижимости в попытке увеличить количество бронирований в день. Количество бронирований на один объект недвижимости может существенно разниться (например от нуля до тысяч), поэтому дисперсия показателя может оказаться существенной. Часто мы знаем среднее количество бронирований в день до эксперимента., тогда можно сразу проверять, начинают ли объекты получать больше, меньше или столько же бронирований по сравнению со своим средним результатом до эксперимента. Разброс в такой метрике будет существенно меньше.\n"
   ]
  },
  {
   "cell_type": "markdown",
   "metadata": {},
   "source": [
    "Давайте сделаем шаг назад и посмотрим, как нам могут помочь так называемые контрольные переменные (то, с помощью чего мы собрались понижать дисперсию).\n",
    "\n",
    "Представим, что мы измеряем метрику $Y$. Допустим, что помимо нее у нас есть еще одна случайная величина $X$, у которой нам хорошо известно мат.ожидание. Допустим, что мы хотим по выборке считать $\\overline{Y}$. Сконструируем выборку из пар $(Y_i, X_i)$ (например значение метрики в эксперименте, значение метрики до эксперимента) и построим такую величину:\n",
    "\n",
    "$$\\hat Y_{cv} = \\overline Y - \\theta\\overline X +\\theta E(X)$$\n",
    "\n",
    "Здесь $\\theta$ - какое-то число. Нетрудно догадаться, что $\\hat Y_{cv}$ - несмещенная оценка для $E(Y)$, потому что:\n",
    "\n",
    "$$E(\\hat Y_{cv}) = E(\\overline Y) - E(\\theta\\overline X) +E(\\theta E(X)) = E(\\overline Y)$$\n",
    "\n",
    "Тогда:\n",
    "\n",
    "$$var(\\hat Y_{cv}) = var(\\overline Y - \\theta\\overline X) = \\dfrac{1}{n^2}(var(Y)+\\theta^2var(X)-2\\theta cov(Y,X))$$\n",
    "\n",
    "Это выражение будет минимальным, если выбрать:\n",
    "$$\\theta = \\dfrac{cov(Y,X)}{var{X}}$$\n",
    "\n",
    "Отлично, так и сделаем. При таком выборе наша дисперсия будет равна:\n",
    "\n",
    "$$var(\\hat Y_{cv}) = var(\\overline Y)(1-\\rho^2)$$\n",
    "\n",
    "где $\\rho$- коэффициент корреляции *Y* и *X*. \n",
    "\n",
    "Все это означает, чт если мы найдем такой *X*, что он будет сильно скоррелирован с *Y*, с помощью него мы сможем значительно уменьшить дисперсию."
   ]
  },
  {
   "cell_type": "markdown",
   "metadata": {},
   "source": [
    "<img src = \"https://miro.medium.com/max/1400/1*pGrlReRtxpgzgRT6sBZxTA.png\">"
   ]
  },
  {
   "cell_type": "markdown",
   "metadata": {},
   "source": [
    "## Пример.\n",
    "\n",
    "Представим, что мы - голосовой помощник. Мы выкатили новый диалоговый алгоритм в приложение на платформу iOS и хотим проверить, стали ли наши пользователи в среднем \"болтать\" с приложением больше.Для этого решили измерить количество фраз на пользователя в среднем в неделю.  В группе \"EXP1\" наша новая функциональность есть, а в группе \"ВASE\" ее нет. Также у нас есть данные до эксперимента. Давайте посмотрим, какой мы получим результат и поможет ли нам здесь CUPED."
   ]
  },
  {
   "cell_type": "code",
   "execution_count": 9,
   "metadata": {},
   "outputs": [],
   "source": [
    "import pandas as pd\n",
    "import numpy as np\n",
    "from scipy.stats import ttest_ind\n",
    "from statsmodels.stats.weightstats import *\n",
    "from matplotlib import pyplot"
   ]
  },
  {
   "cell_type": "code",
   "execution_count": 10,
   "metadata": {},
   "outputs": [],
   "source": [
    "df = pd.read_csv('queries_per_user.csv')"
   ]
  },
  {
   "cell_type": "code",
   "execution_count": 11,
   "metadata": {},
   "outputs": [
    {
     "data": {
      "text/plain": [
       "exp_group\n",
       "BASE    58539\n",
       "EXP1    14545\n",
       "Name: device_id, dtype: int64"
      ]
     },
     "execution_count": 11,
     "metadata": {},
     "output_type": "execute_result"
    }
   ],
   "source": [
    "df.groupby('exp_group')['device_id'].count()"
   ]
  },
  {
   "cell_type": "code",
   "execution_count": 20,
   "metadata": {},
   "outputs": [
    {
     "data": {
      "text/plain": [
       "142.85714285714286"
      ]
     },
     "execution_count": 20,
     "metadata": {},
     "output_type": "execute_result"
    }
   ],
   "source": [
    "1000/7"
   ]
  },
  {
   "cell_type": "code",
   "execution_count": 22,
   "metadata": {},
   "outputs": [
    {
     "data": {
      "text/plain": [
       "160"
      ]
     },
     "execution_count": 22,
     "metadata": {},
     "output_type": "execute_result"
    }
   ],
   "source": [
    "20*8"
   ]
  },
  {
   "cell_type": "code",
   "execution_count": 17,
   "metadata": {},
   "outputs": [
    {
     "data": {
      "text/html": [
       "<div>\n",
       "<style scoped>\n",
       "    .dataframe tbody tr th:only-of-type {\n",
       "        vertical-align: middle;\n",
       "    }\n",
       "\n",
       "    .dataframe tbody tr th {\n",
       "        vertical-align: top;\n",
       "    }\n",
       "\n",
       "    .dataframe thead th {\n",
       "        text-align: right;\n",
       "    }\n",
       "</style>\n",
       "<table border=\"1\" class=\"dataframe\">\n",
       "  <thead>\n",
       "    <tr style=\"text-align: right;\">\n",
       "      <th></th>\n",
       "      <th>exp_group</th>\n",
       "      <th>device_id</th>\n",
       "      <th>phrases</th>\n",
       "      <th>phrases_before</th>\n",
       "      <th>phrases_cuped</th>\n",
       "    </tr>\n",
       "  </thead>\n",
       "  <tbody>\n",
       "    <tr>\n",
       "      <th>9156</th>\n",
       "      <td>EXP1</td>\n",
       "      <td>b8faa44526c9fe561c59e40abac1b237e2576db2ffcf2c...</td>\n",
       "      <td>143.5</td>\n",
       "      <td>1161.5</td>\n",
       "      <td>-481.498368</td>\n",
       "    </tr>\n",
       "    <tr>\n",
       "      <th>13905</th>\n",
       "      <td>BASE</td>\n",
       "      <td>2de9bedb7957db5d6910873dde57c4efe0a0ed34a46b4f...</td>\n",
       "      <td>16.0</td>\n",
       "      <td>1250.0</td>\n",
       "      <td>-657.643899</td>\n",
       "    </tr>\n",
       "    <tr>\n",
       "      <th>14551</th>\n",
       "      <td>EXP1</td>\n",
       "      <td>9fd5edc0f3992f6d8a9a862ddeb2abffdb4ef5ed42cbea...</td>\n",
       "      <td>2577.5</td>\n",
       "      <td>2558.0</td>\n",
       "      <td>1184.891635</td>\n",
       "    </tr>\n",
       "    <tr>\n",
       "      <th>15789</th>\n",
       "      <td>BASE</td>\n",
       "      <td>096c99ce856d6a53a805fc8a7b1a4e67ce001ccc41b851...</td>\n",
       "      <td>1352.5</td>\n",
       "      <td>2118.5</td>\n",
       "      <td>201.470292</td>\n",
       "    </tr>\n",
       "    <tr>\n",
       "      <th>19362</th>\n",
       "      <td>EXP1</td>\n",
       "      <td>ff747fda612721af10c3766fab000f4c4814e3b998157b...</td>\n",
       "      <td>270.0</td>\n",
       "      <td>1063.0</td>\n",
       "      <td>-300.856166</td>\n",
       "    </tr>\n",
       "    <tr>\n",
       "      <th>22895</th>\n",
       "      <td>BASE</td>\n",
       "      <td>d4a5f4714cb2ad4e438d02d7045f4b42c830ceea80a297...</td>\n",
       "      <td>36.5</td>\n",
       "      <td>1013.5</td>\n",
       "      <td>-507.147648</td>\n",
       "    </tr>\n",
       "    <tr>\n",
       "      <th>26826</th>\n",
       "      <td>BASE</td>\n",
       "      <td>70d763be7d680353590ada0bcc78b43fa8afd035b6eb27...</td>\n",
       "      <td>712.0</td>\n",
       "      <td>1566.5</td>\n",
       "      <td>-135.613512</td>\n",
       "    </tr>\n",
       "    <tr>\n",
       "      <th>27908</th>\n",
       "      <td>EXP1</td>\n",
       "      <td>bdc1c83288488205a3213c31685b1a14a9dc860e9d541c...</td>\n",
       "      <td>1456.0</td>\n",
       "      <td>2105.0</td>\n",
       "      <td>312.390796</td>\n",
       "    </tr>\n",
       "    <tr>\n",
       "      <th>29033</th>\n",
       "      <td>BASE</td>\n",
       "      <td>a17dc854402282e677880dadb2c3e9af182c4e6456dffa...</td>\n",
       "      <td>2414.5</td>\n",
       "      <td>1672.0</td>\n",
       "      <td>1508.896617</td>\n",
       "    </tr>\n",
       "    <tr>\n",
       "      <th>29702</th>\n",
       "      <td>BASE</td>\n",
       "      <td>0da0062f4ccae7565273acfa78002a0d14be29013ea333...</td>\n",
       "      <td>121.0</td>\n",
       "      <td>1127.5</td>\n",
       "      <td>-485.309689</td>\n",
       "    </tr>\n",
       "    <tr>\n",
       "      <th>30240</th>\n",
       "      <td>EXP1</td>\n",
       "      <td>a12d4ff95550e8e153a0a6017ffc78dcac9d94e0768855...</td>\n",
       "      <td>3114.0</td>\n",
       "      <td>2260.5</td>\n",
       "      <td>1884.917574</td>\n",
       "    </tr>\n",
       "    <tr>\n",
       "      <th>43021</th>\n",
       "      <td>BASE</td>\n",
       "      <td>ffb32402a570b10ec46e889b8c5a27b16dedddfa3fc556...</td>\n",
       "      <td>9070.5</td>\n",
       "      <td>8575.5</td>\n",
       "      <td>4370.270326</td>\n",
       "    </tr>\n",
       "    <tr>\n",
       "      <th>44223</th>\n",
       "      <td>BASE</td>\n",
       "      <td>fdafaa1b20e517de8ffb28744b663946f196d94033443f...</td>\n",
       "      <td>2106.5</td>\n",
       "      <td>1633.0</td>\n",
       "      <td>1222.333631</td>\n",
       "    </tr>\n",
       "    <tr>\n",
       "      <th>48672</th>\n",
       "      <td>BASE</td>\n",
       "      <td>26a8cb76ee1cbef2f1fee5d73e77f5725ceb2b1affd743...</td>\n",
       "      <td>310.5</td>\n",
       "      <td>1177.0</td>\n",
       "      <td>-323.018207</td>\n",
       "    </tr>\n",
       "    <tr>\n",
       "      <th>54265</th>\n",
       "      <td>BASE</td>\n",
       "      <td>6e0364483cb11d1de0236a7f28fa1ea6486380b62eab21...</td>\n",
       "      <td>2461.0</td>\n",
       "      <td>3218.5</td>\n",
       "      <td>705.336567</td>\n",
       "    </tr>\n",
       "    <tr>\n",
       "      <th>56089</th>\n",
       "      <td>BASE</td>\n",
       "      <td>8cbd939fd30e6b0dccc9e7f3af75f3d24b3ff10433e379...</td>\n",
       "      <td>1902.5</td>\n",
       "      <td>1638.5</td>\n",
       "      <td>1015.310462</td>\n",
       "    </tr>\n",
       "    <tr>\n",
       "      <th>67947</th>\n",
       "      <td>BASE</td>\n",
       "      <td>3b56d9d50aaa5620fd42d96341d0c4d15b006bc459ea04...</td>\n",
       "      <td>1459.0</td>\n",
       "      <td>4052.5</td>\n",
       "      <td>-755.085730</td>\n",
       "    </tr>\n",
       "    <tr>\n",
       "      <th>69276</th>\n",
       "      <td>BASE</td>\n",
       "      <td>79703b5adfff261bceb196c3224a2cf78260b9f553c552...</td>\n",
       "      <td>508.0</td>\n",
       "      <td>1143.5</td>\n",
       "      <td>-107.104361</td>\n",
       "    </tr>\n",
       "  </tbody>\n",
       "</table>\n",
       "</div>"
      ],
      "text/plain": [
       "      exp_group                                          device_id  phrases  \\\n",
       "9156       EXP1  b8faa44526c9fe561c59e40abac1b237e2576db2ffcf2c...    143.5   \n",
       "13905      BASE  2de9bedb7957db5d6910873dde57c4efe0a0ed34a46b4f...     16.0   \n",
       "14551      EXP1  9fd5edc0f3992f6d8a9a862ddeb2abffdb4ef5ed42cbea...   2577.5   \n",
       "15789      BASE  096c99ce856d6a53a805fc8a7b1a4e67ce001ccc41b851...   1352.5   \n",
       "19362      EXP1  ff747fda612721af10c3766fab000f4c4814e3b998157b...    270.0   \n",
       "22895      BASE  d4a5f4714cb2ad4e438d02d7045f4b42c830ceea80a297...     36.5   \n",
       "26826      BASE  70d763be7d680353590ada0bcc78b43fa8afd035b6eb27...    712.0   \n",
       "27908      EXP1  bdc1c83288488205a3213c31685b1a14a9dc860e9d541c...   1456.0   \n",
       "29033      BASE  a17dc854402282e677880dadb2c3e9af182c4e6456dffa...   2414.5   \n",
       "29702      BASE  0da0062f4ccae7565273acfa78002a0d14be29013ea333...    121.0   \n",
       "30240      EXP1  a12d4ff95550e8e153a0a6017ffc78dcac9d94e0768855...   3114.0   \n",
       "43021      BASE  ffb32402a570b10ec46e889b8c5a27b16dedddfa3fc556...   9070.5   \n",
       "44223      BASE  fdafaa1b20e517de8ffb28744b663946f196d94033443f...   2106.5   \n",
       "48672      BASE  26a8cb76ee1cbef2f1fee5d73e77f5725ceb2b1affd743...    310.5   \n",
       "54265      BASE  6e0364483cb11d1de0236a7f28fa1ea6486380b62eab21...   2461.0   \n",
       "56089      BASE  8cbd939fd30e6b0dccc9e7f3af75f3d24b3ff10433e379...   1902.5   \n",
       "67947      BASE  3b56d9d50aaa5620fd42d96341d0c4d15b006bc459ea04...   1459.0   \n",
       "69276      BASE  79703b5adfff261bceb196c3224a2cf78260b9f553c552...    508.0   \n",
       "\n",
       "       phrases_before  phrases_cuped  \n",
       "9156           1161.5    -481.498368  \n",
       "13905          1250.0    -657.643899  \n",
       "14551          2558.0    1184.891635  \n",
       "15789          2118.5     201.470292  \n",
       "19362          1063.0    -300.856166  \n",
       "22895          1013.5    -507.147648  \n",
       "26826          1566.5    -135.613512  \n",
       "27908          2105.0     312.390796  \n",
       "29033          1672.0    1508.896617  \n",
       "29702          1127.5    -485.309689  \n",
       "30240          2260.5    1884.917574  \n",
       "43021          8575.5    4370.270326  \n",
       "44223          1633.0    1222.333631  \n",
       "48672          1177.0    -323.018207  \n",
       "54265          3218.5     705.336567  \n",
       "56089          1638.5    1015.310462  \n",
       "67947          4052.5    -755.085730  \n",
       "69276          1143.5    -107.104361  "
      ]
     },
     "execution_count": 17,
     "metadata": {},
     "output_type": "execute_result"
    }
   ],
   "source": [
    "df[df.phrases_before > 1000]"
   ]
  },
  {
   "cell_type": "markdown",
   "metadata": {},
   "source": [
    "Глянем, нормальное ли у нас распределение"
   ]
  },
  {
   "cell_type": "code",
   "execution_count": 12,
   "metadata": {},
   "outputs": [
    {
     "data": {
      "image/png": "[encoded data removed]",
      "text/plain": [
       "<Figure size 640x480 with 1 Axes>"
      ]
     },
     "metadata": {},
     "output_type": "display_data"
    }
   ],
   "source": [
    "f = stats.probplot(df[df.exp_group == 'EXP1'].phrases, dist=\"norm\", plot=pyplot)"
   ]
  },
  {
   "cell_type": "code",
   "execution_count": 18,
   "metadata": {},
   "outputs": [],
   "source": [
    "df = df[df.phrases_before <= 1000]"
   ]
  },
  {
   "cell_type": "code",
   "execution_count": 48,
   "metadata": {},
   "outputs": [
    {
     "data": {
      "text/html": [
       "<div>\n",
       "<style scoped>\n",
       "    .dataframe tbody tr th:only-of-type {\n",
       "        vertical-align: middle;\n",
       "    }\n",
       "\n",
       "    .dataframe tbody tr th {\n",
       "        vertical-align: top;\n",
       "    }\n",
       "\n",
       "    .dataframe thead th {\n",
       "        text-align: right;\n",
       "    }\n",
       "</style>\n",
       "<table border=\"1\" class=\"dataframe\">\n",
       "  <thead>\n",
       "    <tr style=\"text-align: right;\">\n",
       "      <th></th>\n",
       "      <th>exp_group</th>\n",
       "      <th>device_id</th>\n",
       "      <th>phrases</th>\n",
       "      <th>phrases_before</th>\n",
       "    </tr>\n",
       "  </thead>\n",
       "  <tbody>\n",
       "    <tr>\n",
       "      <th>14551</th>\n",
       "      <td>EXP1</td>\n",
       "      <td>9fd5edc0f3992f6d8a9a862ddeb2abffdb4ef5ed42cbea...</td>\n",
       "      <td>2577.5</td>\n",
       "      <td>2558.0</td>\n",
       "    </tr>\n",
       "    <tr>\n",
       "      <th>15789</th>\n",
       "      <td>BASE</td>\n",
       "      <td>096c99ce856d6a53a805fc8a7b1a4e67ce001ccc41b851...</td>\n",
       "      <td>1352.5</td>\n",
       "      <td>2118.5</td>\n",
       "    </tr>\n",
       "    <tr>\n",
       "      <th>26826</th>\n",
       "      <td>BASE</td>\n",
       "      <td>70d763be7d680353590ada0bcc78b43fa8afd035b6eb27...</td>\n",
       "      <td>712.0</td>\n",
       "      <td>1566.5</td>\n",
       "    </tr>\n",
       "    <tr>\n",
       "      <th>27908</th>\n",
       "      <td>EXP1</td>\n",
       "      <td>bdc1c83288488205a3213c31685b1a14a9dc860e9d541c...</td>\n",
       "      <td>1456.0</td>\n",
       "      <td>2105.0</td>\n",
       "    </tr>\n",
       "    <tr>\n",
       "      <th>29033</th>\n",
       "      <td>BASE</td>\n",
       "      <td>a17dc854402282e677880dadb2c3e9af182c4e6456dffa...</td>\n",
       "      <td>2414.5</td>\n",
       "      <td>1672.0</td>\n",
       "    </tr>\n",
       "    <tr>\n",
       "      <th>30240</th>\n",
       "      <td>EXP1</td>\n",
       "      <td>a12d4ff95550e8e153a0a6017ffc78dcac9d94e0768855...</td>\n",
       "      <td>3114.0</td>\n",
       "      <td>2260.5</td>\n",
       "    </tr>\n",
       "    <tr>\n",
       "      <th>43021</th>\n",
       "      <td>BASE</td>\n",
       "      <td>ffb32402a570b10ec46e889b8c5a27b16dedddfa3fc556...</td>\n",
       "      <td>9070.5</td>\n",
       "      <td>8575.5</td>\n",
       "    </tr>\n",
       "    <tr>\n",
       "      <th>44223</th>\n",
       "      <td>BASE</td>\n",
       "      <td>fdafaa1b20e517de8ffb28744b663946f196d94033443f...</td>\n",
       "      <td>2106.5</td>\n",
       "      <td>1633.0</td>\n",
       "    </tr>\n",
       "    <tr>\n",
       "      <th>54265</th>\n",
       "      <td>BASE</td>\n",
       "      <td>6e0364483cb11d1de0236a7f28fa1ea6486380b62eab21...</td>\n",
       "      <td>2461.0</td>\n",
       "      <td>3218.5</td>\n",
       "    </tr>\n",
       "    <tr>\n",
       "      <th>56089</th>\n",
       "      <td>BASE</td>\n",
       "      <td>8cbd939fd30e6b0dccc9e7f3af75f3d24b3ff10433e379...</td>\n",
       "      <td>1902.5</td>\n",
       "      <td>1638.5</td>\n",
       "    </tr>\n",
       "    <tr>\n",
       "      <th>67947</th>\n",
       "      <td>BASE</td>\n",
       "      <td>3b56d9d50aaa5620fd42d96341d0c4d15b006bc459ea04...</td>\n",
       "      <td>1459.0</td>\n",
       "      <td>4052.5</td>\n",
       "    </tr>\n",
       "  </tbody>\n",
       "</table>\n",
       "</div>"
      ],
      "text/plain": [
       "      exp_group                                          device_id  phrases  \\\n",
       "14551      EXP1  9fd5edc0f3992f6d8a9a862ddeb2abffdb4ef5ed42cbea...   2577.5   \n",
       "15789      BASE  096c99ce856d6a53a805fc8a7b1a4e67ce001ccc41b851...   1352.5   \n",
       "26826      BASE  70d763be7d680353590ada0bcc78b43fa8afd035b6eb27...    712.0   \n",
       "27908      EXP1  bdc1c83288488205a3213c31685b1a14a9dc860e9d541c...   1456.0   \n",
       "29033      BASE  a17dc854402282e677880dadb2c3e9af182c4e6456dffa...   2414.5   \n",
       "30240      EXP1  a12d4ff95550e8e153a0a6017ffc78dcac9d94e0768855...   3114.0   \n",
       "43021      BASE  ffb32402a570b10ec46e889b8c5a27b16dedddfa3fc556...   9070.5   \n",
       "44223      BASE  fdafaa1b20e517de8ffb28744b663946f196d94033443f...   2106.5   \n",
       "54265      BASE  6e0364483cb11d1de0236a7f28fa1ea6486380b62eab21...   2461.0   \n",
       "56089      BASE  8cbd939fd30e6b0dccc9e7f3af75f3d24b3ff10433e379...   1902.5   \n",
       "67947      BASE  3b56d9d50aaa5620fd42d96341d0c4d15b006bc459ea04...   1459.0   \n",
       "\n",
       "       phrases_before  \n",
       "14551          2558.0  \n",
       "15789          2118.5  \n",
       "26826          1566.5  \n",
       "27908          2105.0  \n",
       "29033          1672.0  \n",
       "30240          2260.5  \n",
       "43021          8575.5  \n",
       "44223          1633.0  \n",
       "54265          3218.5  \n",
       "56089          1638.5  \n",
       "67947          4052.5  "
      ]
     },
     "execution_count": 48,
     "metadata": {},
     "output_type": "execute_result"
    }
   ],
   "source": [
    "# df[df.phrases_before > 1500]"
   ]
  },
  {
   "cell_type": "markdown",
   "metadata": {},
   "source": [
    "Не особо. Ну и ладно, мы же про нормальность при выводе CUPED нигде не говорили."
   ]
  },
  {
   "cell_type": "code",
   "execution_count": 19,
   "metadata": {},
   "outputs": [],
   "source": [
    "metric = df.phrases.values\n",
    "covariate = df.phrases_before.values\n",
    "\n",
    "cov = np.mean((metric*covariate)) - np.mean(covariate)*np.mean(metric) \n"
   ]
  },
  {
   "cell_type": "code",
   "execution_count": 39,
   "metadata": {},
   "outputs": [
    {
     "data": {
      "text/plain": [
       "638.5789338505128"
      ]
     },
     "execution_count": 39,
     "metadata": {},
     "output_type": "execute_result"
    }
   ],
   "source": [
    "cov"
   ]
  },
  {
   "cell_type": "code",
   "execution_count": 20,
   "metadata": {},
   "outputs": [],
   "source": [
    "theta = cov / np.var(covariate)\n",
    "mean_cov = np.mean(covariate)\n",
    "df['phrases_cuped'] = df.phrases - (df.phrases_before - mean_cov) * theta"
   ]
  },
  {
   "cell_type": "markdown",
   "metadata": {},
   "source": [
    "Теперь считаем дисперсию :)"
   ]
  },
  {
   "cell_type": "code",
   "execution_count": 21,
   "metadata": {},
   "outputs": [],
   "source": [
    "cuped_exp_2  = df.phrases_cuped[df.exp_group=='EXP1']\n",
    "exp_2 = df.phrases[df.exp_group=='EXP1']"
   ]
  },
  {
   "cell_type": "code",
   "execution_count": 22,
   "metadata": {},
   "outputs": [
    {
     "name": "stdout",
     "output_type": "stream",
     "text": [
      "Среднее CUPED-метрики 16.65158775235751\n",
      "Среднее 16.591231086657498\n",
      "\n",
      "Дисперсия CUPED-метрики 1194.5535355074123\n",
      "Дисперсия 1380.6479526797534\n",
      "\n",
      "Понизили дисперсию на 13.5 %\n"
     ]
    }
   ],
   "source": [
    "print('Среднее CUPED-метрики', np.mean(cuped_exp_2))\n",
    "print('Среднее',np.mean(exp_2))\n",
    "print('')\n",
    "print('Дисперсия CUPED-метрики', np.var(cuped_exp_2))\n",
    "print('Дисперсия', np.var(exp_2))\n",
    "print('')\n",
    "print('Понизили дисперсию на', round((1 - np.var(cuped_exp_2)/np.var(exp_2))*100,1),'%')"
   ]
  },
  {
   "cell_type": "code",
   "execution_count": 43,
   "metadata": {},
   "outputs": [
    {
     "data": {
      "text/plain": [
       "exp_group\n",
       "BASE    15.242812\n",
       "EXP1    16.617384\n",
       "Name: phrases, dtype: float64"
      ]
     },
     "execution_count": 43,
     "metadata": {},
     "output_type": "execute_result"
    }
   ],
   "source": [
    "df.groupby('exp_group')['phrases'].mean()"
   ]
  },
  {
   "cell_type": "code",
   "execution_count": 35,
   "metadata": {},
   "outputs": [],
   "source": [
    "ttest_ind??"
   ]
  },
  {
   "cell_type": "code",
   "execution_count": 44,
   "metadata": {},
   "outputs": [
    {
     "data": {
      "text/plain": [
       "(4.011736806851184, 6.047502162212972e-05, 21769.829031815352)"
      ]
     },
     "execution_count": 44,
     "metadata": {},
     "output_type": "execute_result"
    }
   ],
   "source": [
    "ttest_ind(df.phrases[df.exp_group=='EXP1'], df.phrases[df.exp_group!='EXP1'], usevar = 'unequal')"
   ]
  },
  {
   "cell_type": "code",
   "execution_count": 45,
   "metadata": {},
   "outputs": [
    {
     "data": {
      "text/plain": [
       "(4.499217442819438, 6.855553518314356e-06, 21852.346744022158)"
      ]
     },
     "execution_count": 45,
     "metadata": {},
     "output_type": "execute_result"
    }
   ],
   "source": [
    "ttest_ind(df.phrases_cuped[df.exp_group=='EXP1'], df.phrases_cuped[df.exp_group!='EXP1'], usevar = 'unequal')"
   ]
  },
  {
   "cell_type": "markdown",
   "metadata": {},
   "source": [
    "А теперь важный вопрос: результат теста-то какой? Ниже привел данные по обеим группам."
   ]
  },
  {
   "cell_type": "code",
   "execution_count": 14,
   "metadata": {},
   "outputs": [
    {
     "data": {
      "text/html": [
       "<div>\n",
       "<style scoped>\n",
       "    .dataframe tbody tr th:only-of-type {\n",
       "        vertical-align: middle;\n",
       "    }\n",
       "\n",
       "    .dataframe tbody tr th {\n",
       "        vertical-align: top;\n",
       "    }\n",
       "\n",
       "    .dataframe thead tr th {\n",
       "        text-align: left;\n",
       "    }\n",
       "\n",
       "    .dataframe thead tr:last-of-type th {\n",
       "        text-align: right;\n",
       "    }\n",
       "</style>\n",
       "<table border=\"1\" class=\"dataframe\">\n",
       "  <thead>\n",
       "    <tr>\n",
       "      <th></th>\n",
       "      <th colspan=\"8\" halign=\"left\">phrases</th>\n",
       "      <th colspan=\"5\" halign=\"left\">phrases_before</th>\n",
       "      <th colspan=\"8\" halign=\"left\">phrases_cuped</th>\n",
       "    </tr>\n",
       "    <tr>\n",
       "      <th></th>\n",
       "      <th>count</th>\n",
       "      <th>mean</th>\n",
       "      <th>std</th>\n",
       "      <th>min</th>\n",
       "      <th>25%</th>\n",
       "      <th>50%</th>\n",
       "      <th>75%</th>\n",
       "      <th>max</th>\n",
       "      <th>count</th>\n",
       "      <th>mean</th>\n",
       "      <th>...</th>\n",
       "      <th>75%</th>\n",
       "      <th>max</th>\n",
       "      <th>count</th>\n",
       "      <th>mean</th>\n",
       "      <th>std</th>\n",
       "      <th>min</th>\n",
       "      <th>25%</th>\n",
       "      <th>50%</th>\n",
       "      <th>75%</th>\n",
       "      <th>max</th>\n",
       "    </tr>\n",
       "    <tr>\n",
       "      <th>exp_group</th>\n",
       "      <th></th>\n",
       "      <th></th>\n",
       "      <th></th>\n",
       "      <th></th>\n",
       "      <th></th>\n",
       "      <th></th>\n",
       "      <th></th>\n",
       "      <th></th>\n",
       "      <th></th>\n",
       "      <th></th>\n",
       "      <th></th>\n",
       "      <th></th>\n",
       "      <th></th>\n",
       "      <th></th>\n",
       "      <th></th>\n",
       "      <th></th>\n",
       "      <th></th>\n",
       "      <th></th>\n",
       "      <th></th>\n",
       "      <th></th>\n",
       "      <th></th>\n",
       "    </tr>\n",
       "  </thead>\n",
       "  <tbody>\n",
       "    <tr>\n",
       "      <th>BASE</th>\n",
       "      <td>58539.0</td>\n",
       "      <td>15.607638</td>\n",
       "      <td>55.710418</td>\n",
       "      <td>0.5</td>\n",
       "      <td>2.0</td>\n",
       "      <td>5.5</td>\n",
       "      <td>15.0</td>\n",
       "      <td>9070.5</td>\n",
       "      <td>58539.0</td>\n",
       "      <td>24.484566</td>\n",
       "      <td>...</td>\n",
       "      <td>24.5</td>\n",
       "      <td>8575.5</td>\n",
       "      <td>58539.0</td>\n",
       "      <td>15.589158</td>\n",
       "      <td>41.906744</td>\n",
       "      <td>-755.085730</td>\n",
       "      <td>9.569041</td>\n",
       "      <td>14.115379</td>\n",
       "      <td>19.809192</td>\n",
       "      <td>4370.270326</td>\n",
       "    </tr>\n",
       "    <tr>\n",
       "      <th>EXP1</th>\n",
       "      <td>14545.0</td>\n",
       "      <td>17.105363</td>\n",
       "      <td>51.366898</td>\n",
       "      <td>0.5</td>\n",
       "      <td>2.0</td>\n",
       "      <td>6.0</td>\n",
       "      <td>17.0</td>\n",
       "      <td>3114.0</td>\n",
       "      <td>14545.0</td>\n",
       "      <td>24.315641</td>\n",
       "      <td>...</td>\n",
       "      <td>24.0</td>\n",
       "      <td>2558.0</td>\n",
       "      <td>14545.0</td>\n",
       "      <td>17.179736</td>\n",
       "      <td>41.213061</td>\n",
       "      <td>-481.498368</td>\n",
       "      <td>10.367044</td>\n",
       "      <td>14.522704</td>\n",
       "      <td>21.042543</td>\n",
       "      <td>1884.917574</td>\n",
       "    </tr>\n",
       "  </tbody>\n",
       "</table>\n",
       "<p>2 rows × 24 columns</p>\n",
       "</div>"
      ],
      "text/plain": [
       "           phrases                                                     \\\n",
       "             count       mean        std  min  25%  50%   75%     max   \n",
       "exp_group                                                               \n",
       "BASE       58539.0  15.607638  55.710418  0.5  2.0  5.5  15.0  9070.5   \n",
       "EXP1       14545.0  17.105363  51.366898  0.5  2.0  6.0  17.0  3114.0   \n",
       "\n",
       "          phrases_before             ...               phrases_cuped  \\\n",
       "                   count       mean  ...   75%     max         count   \n",
       "exp_group                            ...                               \n",
       "BASE             58539.0  24.484566  ...  24.5  8575.5       58539.0   \n",
       "EXP1             14545.0  24.315641  ...  24.0  2558.0       14545.0   \n",
       "\n",
       "                                                                              \\\n",
       "                mean        std         min        25%        50%        75%   \n",
       "exp_group                                                                      \n",
       "BASE       15.589158  41.906744 -755.085730   9.569041  14.115379  19.809192   \n",
       "EXP1       17.179736  41.213061 -481.498368  10.367044  14.522704  21.042543   \n",
       "\n",
       "                        \n",
       "                   max  \n",
       "exp_group               \n",
       "BASE       4370.270326  \n",
       "EXP1       1884.917574  \n",
       "\n",
       "[2 rows x 24 columns]"
      ]
     },
     "execution_count": 14,
     "metadata": {},
     "output_type": "execute_result"
    }
   ],
   "source": [
    "df.groupby('exp_group').describe()"
   ]
  },
  {
   "cell_type": "code",
   "execution_count": 16,
   "metadata": {},
   "outputs": [
    {
     "data": {
      "text/plain": [
       "(array([6.0000e+00, 1.1070e+03, 1.3391e+04, 3.1000e+01, 5.0000e+00,\n",
       "        1.0000e+00, 1.0000e+00, 2.0000e+00, 0.0000e+00, 1.0000e+00]),\n",
       " array([-481.49836774, -244.85677353,   -8.21517933,  228.42641487,\n",
       "         465.06800907,  701.70960328,  938.35119748, 1174.99279168,\n",
       "        1411.63438588, 1648.27598009, 1884.91757429]),\n",
       " <BarContainer object of 10 artists>)"
      ]
     },
     "execution_count": 16,
     "metadata": {},
     "output_type": "execute_result"
    },
    {
     "data": {
      "image/png": "[encoded data removed]",
      "text/plain": [
       "<Figure size 640x480 with 1 Axes>"
      ]
     },
     "metadata": {},
     "output_type": "display_data"
    }
   ],
   "source": [
    "import matplotlib.pyplot as plt\n",
    "plt.hist(cuped_exp_2)"
   ]
  },
  {
   "cell_type": "code",
   "execution_count": null,
   "metadata": {},
   "outputs": [],
   "source": []
  }
 ],
 "metadata": {
  "kernelspec": {
   "display_name": "Python 3 (ipykernel)",
   "language": "python",
   "name": "python3"
  },
  "language_info": {
   "codemirror_mode": {
    "name": "ipython",
    "version": 3
   },
   "file_extension": ".py",
   "mimetype": "text/x-python",
   "name": "python",
   "nbconvert_exporter": "python",
   "pygments_lexer": "ipython3",
   "version": "3.11.7"
  }
 },
 "nbformat": 4,
 "nbformat_minor": 4
}
