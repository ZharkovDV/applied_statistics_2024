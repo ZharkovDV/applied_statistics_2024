{
 "cells": [
  {
   "cell_type": "markdown",
   "metadata": {},
   "source": [
    "# Sample size\n",
    "\n",
    "*Подготовил Ян Пиле*"
   ]
  },
  {
   "cell_type": "markdown",
   "metadata": {},
   "source": [
    "Часто, когда собираются проводить АБ-тест, процесс происходит следующим образом:\n",
    "    \n",
    "1) К вам приходит менеджер и говорит: \"Хочу провести АБ с нововведением Х и увеличить тем самым метрику Y\" (например $X = \\text{новый алгоритм ранжирования в ленте новостей}$, а $Y = CTR$\\)\n",
    "\n",
    "2) \"А какой размер эффекта мы хотим увидеть?\"-, спрашиваете Вы.\n",
    "\n",
    "3) \"Какой будет, такой и хотим увидеть,\"- отвечает менеджер\n",
    "\n",
    "Естественно, так ничего не заработает :) Очевидно вы понимаете, что для измерения любого сколь угодно малого эффекта вам нужно иметь бесконечное количество пользователей и, вероятно, бесконечное время проводить эксперимент.\n",
    "\n",
    "Так что же, в итоге, делать?"
   ]
  },
  {
   "cell_type": "markdown",
   "metadata": {},
   "source": [
    "# Калькуляторы размеров выборки"
   ]
  },
  {
   "cell_type": "code",
   "execution_count": 1,
   "metadata": {},
   "outputs": [],
   "source": [
    "import pandahouse\n",
    "import pandas as pd\n",
    "import seaborn as sns\n",
    "import matplotlib.pyplot as plt\n",
    "import numpy as np\n",
    "import hashlib # Делать хеши\n",
    "from scipy import stats # Статистика\n",
    "from scipy.stats import norm, ttest_ind\n",
    "%matplotlib inline"
   ]
  },
  {
   "cell_type": "code",
   "execution_count": 4,
   "metadata": {},
   "outputs": [
    {
     "data": {
      "text/plain": [
       "(2578.4203009174344, 433274.9510489502)"
      ]
     },
     "execution_count": 4,
     "metadata": {},
     "output_type": "execute_result"
    }
   ],
   "source": [
    "x = np.random.lognormal(1,3,size = 10000)\n",
    "np.quantile(x, 0.99), x.max()"
   ]
  },
  {
   "cell_type": "code",
   "execution_count": 10,
   "metadata": {},
   "outputs": [
    {
     "data": {
      "image/png": "[encoded data removed]",
      "text/plain": [
       "<Figure size 640x480 with 1 Axes>"
      ]
     },
     "metadata": {},
     "output_type": "display_data"
    }
   ],
   "source": [
    "x = np.random.lognormal(1,3,size = (1000, 10000))\n",
    "_ = plt.hist(np.quantile( x, 0.9, axis = 0)**2)"
   ]
  },
  {
   "cell_type": "code",
   "execution_count": null,
   "metadata": {},
   "outputs": [],
   "source": []
  },
  {
   "cell_type": "code",
   "execution_count": null,
   "metadata": {},
   "outputs": [],
   "source": []
  },
  {
   "cell_type": "markdown",
   "metadata": {},
   "source": [
    "Вероятно для оценки размера выборки вы видели вот такую формулу.\n",
    "\n",
    "$$n > \\frac{\\left[ \\Phi^{-1} \\left( 1-\\alpha \\right) + \\Phi^{-1} \\left( 1-\\beta \\right) \\right]^2 (\\sigma_X^2 + \\sigma_Y^2)}{\\varepsilon^2}$$\n",
    "\n",
    "Здесь $\\varepsilon$ - размер эффекта, $\\alpha$ - вероятность ошибки первого рода, $\\beta$ - вероятность ошибки 2 рода\n",
    "\n",
    "<img src = \"https://alexanderdyakonov.files.wordpress.com/2019/05/d0b01.jpg?w=700\">\n",
    "\n",
    "Где здесь какая ошибка?"
   ]
  },
  {
   "cell_type": "code",
   "execution_count": 24,
   "metadata": {},
   "outputs": [],
   "source": [
    "def compute_sample_size_abs(epsilon, std1, std2, alpha=0.05, beta=0.2):\n",
    "    t_alpha = norm.ppf(1 - alpha / 2, loc=0, scale=1)\n",
    "    t_beta = norm.ppf(1 - beta, loc=0, scale=1)\n",
    "    z_scores_sum_squared = (t_alpha + t_beta) ** 2\n",
    "    sample_size = int(\n",
    "        np.ceil(\n",
    "            z_scores_sum_squared * (std1 ** 2 + std2 ** 2) / (epsilon ** 2)\n",
    "        )\n",
    "    )\n",
    "    return sample_size"
   ]
  },
  {
   "cell_type": "markdown",
   "metadata": {},
   "source": [
    "# Как на самом деле сосчитать размер выборки. \n",
    "\n",
    "## Допустим, мы считаем наш CTR"
   ]
  },
  {
   "cell_type": "code",
   "execution_count": 13,
   "metadata": {},
   "outputs": [],
   "source": [
    "q = \"\"\"\n",
    "select views, count() as users\n",
    "from (select  \n",
    "    exp_group,\n",
    "    user_id,\n",
    "    sum(action = 'view') as views\n",
    "from simulator.feed_actions\n",
    "where toDate(time) between '2021-11-08' and '2021-11-14'\n",
    "    and exp_group in (0,1,2,3,4)\n",
    "group by exp_group, user_id\n",
    ")\n",
    "group by views\n",
    "order by views\n",
    "\"\"\"\n",
    "\n",
    "\n",
    "# views_distribution = pandahouse.read_clickhouse(q, connection=connection)"
   ]
  },
  {
   "cell_type": "code",
   "execution_count": 27,
   "metadata": {},
   "outputs": [],
   "source": [
    "views_distribution = pd.read_csv('views.csv')"
   ]
  },
  {
   "cell_type": "code",
   "execution_count": 31,
   "metadata": {},
   "outputs": [],
   "source": [
    "# views_distribution"
   ]
  },
  {
   "cell_type": "code",
   "execution_count": 32,
   "metadata": {},
   "outputs": [
    {
     "data": {
      "text/plain": [
       "42585"
      ]
     },
     "execution_count": 32,
     "metadata": {},
     "output_type": "execute_result"
    }
   ],
   "source": [
    "views_distribution.users.sum()"
   ]
  },
  {
   "cell_type": "code",
   "execution_count": 33,
   "metadata": {},
   "outputs": [],
   "source": [
    "views_distribution['p'] = views_distribution['users']/views_distribution.users.sum()"
   ]
  },
  {
   "cell_type": "code",
   "execution_count": 34,
   "metadata": {},
   "outputs": [
    {
     "data": {
      "text/html": [
       "<div>\n",
       "<style scoped>\n",
       "    .dataframe tbody tr th:only-of-type {\n",
       "        vertical-align: middle;\n",
       "    }\n",
       "\n",
       "    .dataframe tbody tr th {\n",
       "        vertical-align: top;\n",
       "    }\n",
       "\n",
       "    .dataframe thead th {\n",
       "        text-align: right;\n",
       "    }\n",
       "</style>\n",
       "<table border=\"1\" class=\"dataframe\">\n",
       "  <thead>\n",
       "    <tr style=\"text-align: right;\">\n",
       "      <th></th>\n",
       "      <th>views</th>\n",
       "      <th>users</th>\n",
       "      <th>p</th>\n",
       "    </tr>\n",
       "  </thead>\n",
       "  <tbody>\n",
       "    <tr>\n",
       "      <th>14</th>\n",
       "      <td>15</td>\n",
       "      <td>542</td>\n",
       "      <td>0.012727</td>\n",
       "    </tr>\n",
       "    <tr>\n",
       "      <th>15</th>\n",
       "      <td>16</td>\n",
       "      <td>526</td>\n",
       "      <td>0.012352</td>\n",
       "    </tr>\n",
       "    <tr>\n",
       "      <th>16</th>\n",
       "      <td>17</td>\n",
       "      <td>525</td>\n",
       "      <td>0.012328</td>\n",
       "    </tr>\n",
       "    <tr>\n",
       "      <th>32</th>\n",
       "      <td>33</td>\n",
       "      <td>489</td>\n",
       "      <td>0.011483</td>\n",
       "    </tr>\n",
       "    <tr>\n",
       "      <th>13</th>\n",
       "      <td>14</td>\n",
       "      <td>488</td>\n",
       "      <td>0.011459</td>\n",
       "    </tr>\n",
       "    <tr>\n",
       "      <th>...</th>\n",
       "      <td>...</td>\n",
       "      <td>...</td>\n",
       "      <td>...</td>\n",
       "    </tr>\n",
       "    <tr>\n",
       "      <th>292</th>\n",
       "      <td>294</td>\n",
       "      <td>1</td>\n",
       "      <td>0.000023</td>\n",
       "    </tr>\n",
       "    <tr>\n",
       "      <th>293</th>\n",
       "      <td>296</td>\n",
       "      <td>1</td>\n",
       "      <td>0.000023</td>\n",
       "    </tr>\n",
       "    <tr>\n",
       "      <th>294</th>\n",
       "      <td>297</td>\n",
       "      <td>1</td>\n",
       "      <td>0.000023</td>\n",
       "    </tr>\n",
       "    <tr>\n",
       "      <th>297</th>\n",
       "      <td>300</td>\n",
       "      <td>1</td>\n",
       "      <td>0.000023</td>\n",
       "    </tr>\n",
       "    <tr>\n",
       "      <th>319</th>\n",
       "      <td>371</td>\n",
       "      <td>1</td>\n",
       "      <td>0.000023</td>\n",
       "    </tr>\n",
       "  </tbody>\n",
       "</table>\n",
       "<p>320 rows × 3 columns</p>\n",
       "</div>"
      ],
      "text/plain": [
       "     views  users         p\n",
       "14      15    542  0.012727\n",
       "15      16    526  0.012352\n",
       "16      17    525  0.012328\n",
       "32      33    489  0.011483\n",
       "13      14    488  0.011459\n",
       "..     ...    ...       ...\n",
       "292    294      1  0.000023\n",
       "293    296      1  0.000023\n",
       "294    297      1  0.000023\n",
       "297    300      1  0.000023\n",
       "319    371      1  0.000023\n",
       "\n",
       "[320 rows x 3 columns]"
      ]
     },
     "execution_count": 34,
     "metadata": {},
     "output_type": "execute_result"
    }
   ],
   "source": [
    "views_distribution.sort_values(by = 'p', ascending = False)"
   ]
  },
  {
   "cell_type": "markdown",
   "metadata": {},
   "source": [
    "## Вот наше настоящее распределение просмотров"
   ]
  },
  {
   "cell_type": "code",
   "execution_count": 35,
   "metadata": {},
   "outputs": [],
   "source": [
    "views_distr = stats.rv_discrete(name='views_distr', \n",
    "                                values=(views_distribution['views'], \n",
    "                                        views_distribution['p']))"
   ]
  },
  {
   "cell_type": "code",
   "execution_count": 36,
   "metadata": {},
   "outputs": [
    {
     "data": {
      "text/plain": [
       "73.85382176822824"
      ]
     },
     "execution_count": 36,
     "metadata": {},
     "output_type": "execute_result"
    }
   ],
   "source": [
    "views_distr.mean()"
   ]
  },
  {
   "cell_type": "code",
   "execution_count": 37,
   "metadata": {},
   "outputs": [
    {
     "data": {
      "text/plain": [
       "64.0"
      ]
     },
     "execution_count": 37,
     "metadata": {},
     "output_type": "execute_result"
    }
   ],
   "source": [
    "views_distr.median()"
   ]
  },
  {
   "cell_type": "code",
   "execution_count": 38,
   "metadata": {},
   "outputs": [
    {
     "data": {
      "text/plain": [
       "48.81936403773504"
      ]
     },
     "execution_count": 38,
     "metadata": {},
     "output_type": "execute_result"
    }
   ],
   "source": [
    "views_distr.std()"
   ]
  },
  {
   "cell_type": "code",
   "execution_count": 39,
   "metadata": {},
   "outputs": [
    {
     "data": {
      "image/png": "[encoded data removed]",
      "text/plain": [
       "<Figure size 640x480 with 1 Axes>"
      ]
     },
     "metadata": {},
     "output_type": "display_data"
    }
   ],
   "source": [
    "_ = sns.histplot(views_distr.rvs(size=2000))"
   ]
  },
  {
   "cell_type": "markdown",
   "metadata": {},
   "source": [
    "У $CTR$ разброс где-то от 0.2 до 0.22 по дням. Запомним это)"
   ]
  },
  {
   "cell_type": "markdown",
   "metadata": {},
   "source": [
    "Достанем распределение CTR'ов за неделю"
   ]
  },
  {
   "cell_type": "code",
   "execution_count": 67,
   "metadata": {},
   "outputs": [],
   "source": [
    "q = \"\"\"\n",
    "select \n",
    "   floor(ctr, 2) as ctr, count() as users\n",
    "from (select toDate(time) as dt, \n",
    "    exp_group,\n",
    "    user_id,\n",
    "    sum(action = 'like')/sum(action = 'view') as ctr\n",
    "from simulator.feed_actions\n",
    "where dt between '2021-11-08' and '2021-11-14'\n",
    "    and exp_group in (0,1,2,3,4)\n",
    "group by dt, exp_group, user_id\n",
    ")\n",
    "group by ctr\n",
    "\"\"\"\n",
    "\n",
    "\n",
    "# ctr_distribution = pandahouse.read_clickhouse(q, connection=connection)\n",
    "# ctr_distribution['p'] = ctr_distribution['users']/ctr_distribution.users.sum()"
   ]
  },
  {
   "cell_type": "code",
   "execution_count": 40,
   "metadata": {},
   "outputs": [],
   "source": [
    "ctr_distribution = pd.read_csv('ctrs.csv')"
   ]
  },
  {
   "cell_type": "code",
   "execution_count": 43,
   "metadata": {},
   "outputs": [
    {
     "data": {
      "text/html": [
       "<div>\n",
       "<style scoped>\n",
       "    .dataframe tbody tr th:only-of-type {\n",
       "        vertical-align: middle;\n",
       "    }\n",
       "\n",
       "    .dataframe tbody tr th {\n",
       "        vertical-align: top;\n",
       "    }\n",
       "\n",
       "    .dataframe thead th {\n",
       "        text-align: right;\n",
       "    }\n",
       "</style>\n",
       "<table border=\"1\" class=\"dataframe\">\n",
       "  <thead>\n",
       "    <tr style=\"text-align: right;\">\n",
       "      <th></th>\n",
       "      <th>ctr</th>\n",
       "      <th>users</th>\n",
       "      <th>p</th>\n",
       "    </tr>\n",
       "  </thead>\n",
       "  <tbody>\n",
       "    <tr>\n",
       "      <th>17</th>\n",
       "      <td>0.20</td>\n",
       "      <td>5160</td>\n",
       "      <td>0.060302</td>\n",
       "    </tr>\n",
       "    <tr>\n",
       "      <th>32</th>\n",
       "      <td>0.16</td>\n",
       "      <td>4286</td>\n",
       "      <td>0.050088</td>\n",
       "    </tr>\n",
       "    <tr>\n",
       "      <th>6</th>\n",
       "      <td>0.18</td>\n",
       "      <td>4266</td>\n",
       "      <td>0.049855</td>\n",
       "    </tr>\n",
       "    <tr>\n",
       "      <th>49</th>\n",
       "      <td>0.25</td>\n",
       "      <td>4048</td>\n",
       "      <td>0.047307</td>\n",
       "    </tr>\n",
       "    <tr>\n",
       "      <th>27</th>\n",
       "      <td>0.17</td>\n",
       "      <td>4022</td>\n",
       "      <td>0.047003</td>\n",
       "    </tr>\n",
       "    <tr>\n",
       "      <th>...</th>\n",
       "      <td>...</td>\n",
       "      <td>...</td>\n",
       "      <td>...</td>\n",
       "    </tr>\n",
       "    <tr>\n",
       "      <th>19</th>\n",
       "      <td>0.80</td>\n",
       "      <td>1</td>\n",
       "      <td>0.000012</td>\n",
       "    </tr>\n",
       "    <tr>\n",
       "      <th>56</th>\n",
       "      <td>0.76</td>\n",
       "      <td>1</td>\n",
       "      <td>0.000012</td>\n",
       "    </tr>\n",
       "    <tr>\n",
       "      <th>64</th>\n",
       "      <td>0.90</td>\n",
       "      <td>1</td>\n",
       "      <td>0.000012</td>\n",
       "    </tr>\n",
       "    <tr>\n",
       "      <th>29</th>\n",
       "      <td>0.59</td>\n",
       "      <td>1</td>\n",
       "      <td>0.000012</td>\n",
       "    </tr>\n",
       "    <tr>\n",
       "      <th>38</th>\n",
       "      <td>0.88</td>\n",
       "      <td>1</td>\n",
       "      <td>0.000012</td>\n",
       "    </tr>\n",
       "  </tbody>\n",
       "</table>\n",
       "<p>79 rows × 3 columns</p>\n",
       "</div>"
      ],
      "text/plain": [
       "     ctr  users         p\n",
       "17  0.20   5160  0.060302\n",
       "32  0.16   4286  0.050088\n",
       "6   0.18   4266  0.049855\n",
       "49  0.25   4048  0.047307\n",
       "27  0.17   4022  0.047003\n",
       "..   ...    ...       ...\n",
       "19  0.80      1  0.000012\n",
       "56  0.76      1  0.000012\n",
       "64  0.90      1  0.000012\n",
       "29  0.59      1  0.000012\n",
       "38  0.88      1  0.000012\n",
       "\n",
       "[79 rows x 3 columns]"
      ]
     },
     "execution_count": 43,
     "metadata": {},
     "output_type": "execute_result"
    }
   ],
   "source": [
    "ctr_distribution['p'] = ctr_distribution['users']/ctr_distribution.users.sum()\n",
    "ctr_distribution.sort_values(by = 'p', ascending = False)"
   ]
  },
  {
   "cell_type": "code",
   "execution_count": 44,
   "metadata": {},
   "outputs": [],
   "source": [
    "probabilities = ctr_distribution['p']\n",
    "values = ctr_distribution['ctr']\n",
    "distrib = stats.rv_discrete(values=(range(len(probabilities)), probabilities))\n",
    "\n",
    "def get_ctrs(x, y, distrib, values):\n",
    "    idx = distrib.rvs(size=x*y)\n",
    "    result = values[idx]\n",
    "    return np.array(result).reshape(x,y)"
   ]
  },
  {
   "cell_type": "code",
   "execution_count": null,
   "metadata": {},
   "outputs": [],
   "source": []
  },
  {
   "cell_type": "markdown",
   "metadata": {},
   "source": [
    "Так, средний CTR у нас был 0.21. допустим, мы хотим замечать изменение на 0.01 (то есть это на 5%)"
   ]
  },
  {
   "cell_type": "code",
   "execution_count": 46,
   "metadata": {},
   "outputs": [
    {
     "data": {
      "image/png": "[encoded data removed]",
      "text/plain": [
       "<Figure size 640x480 with 1 Axes>"
      ]
     },
     "metadata": {},
     "output_type": "display_data"
    }
   ],
   "source": [
    "_ = sns.histplot(get_ctrs(2000, 1, distrib, values))"
   ]
  },
  {
   "cell_type": "code",
   "execution_count": 47,
   "metadata": {},
   "outputs": [
    {
     "data": {
      "text/plain": [
       "0.212875"
      ]
     },
     "execution_count": 47,
     "metadata": {},
     "output_type": "execute_result"
    }
   ],
   "source": [
    "get_ctrs(2000, 1, distrib, values).mean()"
   ]
  },
  {
   "cell_type": "markdown",
   "metadata": {},
   "source": [
    "# Синтетический А-А тест"
   ]
  },
  {
   "cell_type": "code",
   "execution_count": 48,
   "metadata": {},
   "outputs": [
    {
     "data": {
      "text/plain": [
       "0.0960210145931454"
      ]
     },
     "execution_count": 48,
     "metadata": {},
     "output_type": "execute_result"
    }
   ],
   "source": [
    "q = \"\"\"\n",
    "select \n",
    "   stddevPop(ctr) as ctr_std\n",
    "from (select toDate(time) as dt, \n",
    "    exp_group,\n",
    "    user_id,\n",
    "    sum(action = 'like')/sum(action = 'view') as ctr\n",
    "from simulator.feed_actions\n",
    "where dt between '2021-11-08' and '2021-11-14'\n",
    "    and exp_group in (0,1,2,3,4)\n",
    "group by dt, exp_group, user_id\n",
    ")\n",
    "\n",
    "\"\"\"\n",
    "\n",
    "# std = pandahouse.read_clickhouse(q, connection=connection).values[0][0]\n",
    "std = 0.0960210145931454\n",
    "std"
   ]
  },
  {
   "cell_type": "code",
   "execution_count": 49,
   "metadata": {},
   "outputs": [
    {
     "data": {
      "text/plain": [
       "1448"
      ]
     },
     "execution_count": 49,
     "metadata": {},
     "output_type": "execute_result"
    }
   ],
   "source": [
    "compute_sample_size_abs(0.01, std, std)"
   ]
  },
  {
   "cell_type": "code",
   "execution_count": 51,
   "metadata": {},
   "outputs": [
    {
     "data": {
      "text/plain": [
       "0.2205"
      ]
     },
     "execution_count": 51,
     "metadata": {},
     "output_type": "execute_result"
    }
   ],
   "source": [
    "0.21*1.05"
   ]
  },
  {
   "cell_type": "code",
   "execution_count": 60,
   "metadata": {},
   "outputs": [],
   "source": [
    "group_A_views = views_distr.rvs(size = (1000, 1800)).astype(\"int32\")\n",
    "group_B_views = views_distr.rvs(size = (1000, 1800)).astype(\"int32\")\n",
    "group_A_ctr = get_ctrs(1000, 1800, distrib, values)*1.05\n",
    "group_B_ctr = get_ctrs(1000,1800, distrib, values)\n",
    "clicks_A = stats.binom.rvs(group_A_views, group_A_ctr)\n",
    "clicks_B = stats.binom.rvs(group_B_views, group_B_ctr)"
   ]
  },
  {
   "cell_type": "code",
   "execution_count": 56,
   "metadata": {},
   "outputs": [],
   "source": [
    "def t_test(a, b):\n",
    "    \"\"\"\n",
    "    Считает p-value для t-теста с двусторонней альтернативой \n",
    "    :param a: np.array вида (n_experiments, n_users), значения метрик в контрольных группах\n",
    "    :param b: np.array вида (n_experiments, n_users), значения метрик в тестовых группах\n",
    "    :return: np.array вида (n_experiments), посчитанные p-value t-теста для всего списка экспериментов\n",
    "    \"\"\"\n",
    "    result = list(map(lambda x: stats.ttest_ind(\n",
    "        x[0], x[1], equal_var=False).pvalue, zip(a, b)))\n",
    "    return np.array(result)"
   ]
  },
  {
   "cell_type": "code",
   "execution_count": 61,
   "metadata": {},
   "outputs": [
    {
     "data": {
      "text/plain": [
       "0.797"
      ]
     },
     "execution_count": 61,
     "metadata": {},
     "output_type": "execute_result"
    }
   ],
   "source": [
    "np.sum(t_test(clicks_A/group_A_views, clicks_B/group_B_views)<= 0.05)/1000"
   ]
  },
  {
   "cell_type": "code",
   "execution_count": 58,
   "metadata": {},
   "outputs": [
    {
     "data": {
      "text/plain": [
       "(1000,)"
      ]
     },
     "execution_count": 58,
     "metadata": {},
     "output_type": "execute_result"
    }
   ],
   "source": [
    "t_test(clicks_A, clicks_B)"
   ]
  },
  {
   "cell_type": "code",
   "execution_count": 62,
   "metadata": {},
   "outputs": [],
   "source": [
    "def mannwhitney(a, b):\n",
    "    \"\"\"\n",
    "    Считает p-value для теста Манна-Уитни с двусторонней альтернативой \n",
    "    :param a: np.array вида (n_experiments, n_users), значения метрик в контрольных группах\n",
    "    :param b: np.array вида (n_experiments, n_users), значения метрик в тестовых группах\n",
    "    :return: np.array вида (n_experiments), посчитанные p-value теста Манна-Уитни для всего списка экспериментов\n",
    "    \"\"\"\n",
    "    result = list(map(lambda x: stats.mannwhitneyu(\n",
    "        x[0], x[1]).pvalue, zip(a, b)))\n",
    "    return np.array(result)"
   ]
  },
  {
   "cell_type": "code",
   "execution_count": 63,
   "metadata": {},
   "outputs": [
    {
     "data": {
      "text/plain": [
       "0.771"
      ]
     },
     "execution_count": 63,
     "metadata": {},
     "output_type": "execute_result"
    }
   ],
   "source": [
    "np.sum(mannwhitney(clicks_A/group_A_views, clicks_B/group_B_views)<= 0.05)/1000"
   ]
  },
  {
   "cell_type": "markdown",
   "metadata": {},
   "source": [
    "# Бакетное преобразование"
   ]
  },
  {
   "cell_type": "code",
   "execution_count": 64,
   "metadata": {},
   "outputs": [],
   "source": [
    "def bucketization(ctrs_0, weights_0, ctrs_1, weights_1, n_buckets=100):\n",
    "    \"\"\"\n",
    "    Разбиваем на бакеты с весами\n",
    "    :param ctrs_0: np.array shape (n_experiments, n_users), CTRs of every user from control group in every experiment\n",
    "    :param weights_0: np.array (n_experiments, n_users), веса пользователей в контрольной группе\n",
    "    :param ctrs_1: np.array (n_experiments, n_users), CTRs of every user from treatment group in every experiment\n",
    "    :param weights_1: np.array (n_experiments, n_users), веса пользователей в целевой группе\n",
    "    :param n_buckets: int, кол-во бакетов\n",
    "    :return: np.array shape (n_experiments), средневзвешенные метрики в каждом бакете\n",
    "    \"\"\"\n",
    "\n",
    "    n_experiments, n_users = ctrs_0.shape\n",
    "\n",
    "    values_0 = np.zeros((n_experiments, n_buckets))\n",
    "    values_1 = np.zeros((n_experiments, n_buckets))\n",
    "\n",
    "    for b in np.arange(n_buckets):\n",
    "        ind = np.arange(b * n_users / n_buckets, b * n_users / n_buckets + n_users / n_buckets).astype(np.int32)\n",
    "        values_0[:, b] = np.sum(ctrs_0[:, ind] * weights_0[:, ind], axis=1) / np.sum(weights_0[:, ind], axis=1)\n",
    "        values_1[:, b] = np.sum(ctrs_1[:, ind] * weights_1[:, ind], axis=1) / np.sum(weights_1[:, ind], axis=1)\n",
    "\n",
    "    return values_0, values_1"
   ]
  },
  {
   "cell_type": "code",
   "execution_count": 65,
   "metadata": {},
   "outputs": [],
   "source": [
    "# t-тест поверх бакетов\n",
    "def t_test_buckets(ctrs_0, weights_0, ctrs_1, weights_1, n_buckets=100):\n",
    "    return t_test(*bucketization(ctrs_0, weights_0, ctrs_1, weights_1, n_buckets))\n",
    "\n",
    "# тест Манна-Уитни поверх бакетов\n",
    "def mannwhitney_buckets(ctrs_0, weights_0, ctrs_1, weights_1, n_buckets=100):\n",
    "    return mannwhitney(*bucketization(ctrs_0, weights_0, ctrs_1, weights_1, n_buckets))"
   ]
  },
  {
   "cell_type": "code",
   "execution_count": 66,
   "metadata": {},
   "outputs": [],
   "source": [
    "p_values_ab = mannwhitney_buckets(\n",
    "        clicks_A/group_A_views, group_A_views,\n",
    "        clicks_B/group_B_views, group_B_views)"
   ]
  },
  {
   "cell_type": "code",
   "execution_count": 67,
   "metadata": {},
   "outputs": [
    {
     "data": {
      "text/plain": [
       "0.712"
      ]
     },
     "execution_count": 67,
     "metadata": {},
     "output_type": "execute_result"
    }
   ],
   "source": [
    "np.sum(p_values_ab<= 0.05)/1000"
   ]
  },
  {
   "cell_type": "markdown",
   "metadata": {},
   "source": [
    "# Линеаризация"
   ]
  },
  {
   "cell_type": "code",
   "execution_count": 102,
   "metadata": {},
   "outputs": [],
   "source": [
    "group_A_views = views_distr.rvs(size = (2000, 2000)).astype(\"int32\")\n",
    "group_B_views = views_distr.rvs(size = (2000, 2000)).astype(\"int32\")\n",
    "group_A_ctr = get_ctrs(2000, 2000, distrib, values)*1.05\n",
    "group_B_ctr = get_ctrs(2000, 2000, distrib, values)\n",
    "clicks_A = stats.binom.rvs(group_A_views, group_A_ctr)\n",
    "clicks_B = stats.binom.rvs(group_B_views, group_B_ctr)"
   ]
  },
  {
   "cell_type": "code",
   "execution_count": 103,
   "metadata": {},
   "outputs": [],
   "source": [
    "control_ctr = stats.binom.rvs(group_B_views, group_B_ctr).sum(axis = 1)/group_B_views.sum(axis = 1)"
   ]
  },
  {
   "cell_type": "code",
   "execution_count": 104,
   "metadata": {},
   "outputs": [],
   "source": [
    "linearized_A = clicks_A - (group_A_views.T*control_ctr).T\n",
    "linearized_B = clicks_B - (group_B_views.T*control_ctr).T"
   ]
  },
  {
   "cell_type": "code",
   "execution_count": 105,
   "metadata": {},
   "outputs": [],
   "source": [
    "linearization_p_values = t_test(linearized_A, linearized_B)"
   ]
  },
  {
   "cell_type": "code",
   "execution_count": 106,
   "metadata": {},
   "outputs": [
    {
     "data": {
      "text/plain": [
       "0.76"
      ]
     },
     "execution_count": 106,
     "metadata": {},
     "output_type": "execute_result"
    }
   ],
   "source": [
    "sum(linearization_p_values<=0.05)/2000"
   ]
  },
  {
   "cell_type": "markdown",
   "metadata": {},
   "source": [
    "# А на самом деле просмотры обычно выглядят не так..."
   ]
  },
  {
   "cell_type": "code",
   "execution_count": 70,
   "metadata": {},
   "outputs": [],
   "source": [
    "mu = 1\n",
    "sigma2 = 1.5\n",
    "N = 1447\n",
    "experiments = 1000\n",
    "views_lognormal = np.absolute(np.exp(norm(mu, sigma2).rvs(\n",
    "    experiments * N)).astype(np.int64).reshape(experiments, N) + 1)"
   ]
  },
  {
   "cell_type": "code",
   "execution_count": 71,
   "metadata": {},
   "outputs": [
    {
     "data": {
      "text/plain": [
       "Text(0.5, 1.0, 'Views, 99%-ile = 90.0   ')"
      ]
     },
     "execution_count": 71,
     "metadata": {},
     "output_type": "execute_result"
    },
    {
     "data": {
      "image/png": "[encoded data removed]",
      "text/plain": [
       "<Figure size 640x480 with 1 Axes>"
      ]
     },
     "metadata": {},
     "output_type": "display_data"
    }
   ],
   "source": [
    "fig = plt.figure()\n",
    "ax_views = fig.add_subplot()\n",
    "views_distr = sns.histplot(views_lognormal.ravel(),  # Теперь это массив длины experiments * N\n",
    "                           bins=range(0, 30),\n",
    "                           kde=False,\n",
    "                           ax=ax_views,\n",
    "                           stat='probability')\n",
    "ax_views.set_xlim((0, 30))\n",
    "views_99_percentile = np.percentile(views_lognormal.ravel(), 99)\n",
    "ax_views.set_title(f'Views, 99%-ile = {views_99_percentile:<7.1f}')"
   ]
  },
  {
   "cell_type": "code",
   "execution_count": 72,
   "metadata": {},
   "outputs": [],
   "source": [
    "def get_views(experiments, N, mu = 1, sigma = 1.5):\n",
    "    views_lognormal = np.absolute(\n",
    "        np.exp(\n",
    "            norm(mu, \n",
    "                 sigma2).rvs(experiments * N)\n",
    "        ).astype(np.int64).reshape(experiments, N) + 1)\n",
    "    return views_lognormal"
   ]
  },
  {
   "cell_type": "code",
   "execution_count": 73,
   "metadata": {},
   "outputs": [],
   "source": [
    "group_A_views = get_views(2000, 11000).astype(\"int32\")\n",
    "group_B_views = get_views(2000, 11000).astype(\"int32\")\n",
    "group_A_ctr = get_ctrs(2000, 11000, distrib, values)*1.05\n",
    "group_B_ctr = get_ctrs(2000, 11000, distrib, values)\n",
    "clicks_A = stats.binom.rvs(group_A_views, group_A_ctr)\n",
    "clicks_B = stats.binom.rvs(group_B_views, group_B_ctr)"
   ]
  },
  {
   "cell_type": "code",
   "execution_count": 74,
   "metadata": {},
   "outputs": [
    {
     "data": {
      "text/plain": [
       "0.2875186962775841"
      ]
     },
     "execution_count": 74,
     "metadata": {},
     "output_type": "execute_result"
    }
   ],
   "source": [
    "(clicks_A[0]/group_A_views[0]).std()"
   ]
  },
  {
   "cell_type": "code",
   "execution_count": null,
   "metadata": {},
   "outputs": [],
   "source": []
  },
  {
   "cell_type": "code",
   "execution_count": 75,
   "metadata": {},
   "outputs": [
    {
     "data": {
      "text/plain": [
       "12308"
      ]
     },
     "execution_count": 75,
     "metadata": {},
     "output_type": "execute_result"
    }
   ],
   "source": [
    "compute_sample_size_abs(0.01, 0.28, 0.28)"
   ]
  },
  {
   "cell_type": "code",
   "execution_count": 51,
   "metadata": {},
   "outputs": [
    {
     "data": {
      "text/plain": [
       "0.2729883733226186"
      ]
     },
     "execution_count": 51,
     "metadata": {},
     "output_type": "execute_result"
    }
   ],
   "source": [
    "(clicks_B/group_B_views).std(axis = 1)[0]"
   ]
  },
  {
   "cell_type": "code",
   "execution_count": 76,
   "metadata": {},
   "outputs": [
    {
     "data": {
      "text/plain": [
       "0.8"
      ]
     },
     "execution_count": 76,
     "metadata": {},
     "output_type": "execute_result"
    }
   ],
   "source": [
    "np.sum(t_test(clicks_A/group_A_views, clicks_B/group_B_views)<= 0.05)/2000"
   ]
  },
  {
   "cell_type": "code",
   "execution_count": 116,
   "metadata": {},
   "outputs": [
    {
     "data": {
      "text/plain": [
       "0.813"
      ]
     },
     "execution_count": 116,
     "metadata": {},
     "output_type": "execute_result"
    }
   ],
   "source": [
    "np.sum(t_test_buckets(clicks_A/group_A_views, \n",
    "                      group_A_views,\n",
    "                      clicks_B/group_B_views, \n",
    "                      group_B_views)<= 0.05)/2000"
   ]
  },
  {
   "cell_type": "markdown",
   "metadata": {},
   "source": [
    "# А если я хочу сдвинуть медиану ..."
   ]
  },
  {
   "cell_type": "code",
   "execution_count": 54,
   "metadata": {},
   "outputs": [],
   "source": [
    "def bucketization_median(ctrs_0, ctrs_1, n_buckets=100):\n",
    "    \"\"\"\n",
    "    Разбиваем на бакеты с весами\n",
    "    :param ctrs_0: np.array shape (n_experiments, n_users), CTRs of every user from control group in every experiment\n",
    "    :param weights_0: np.array (n_experiments, n_users), веса пользователей в контрольной группе\n",
    "    :param ctrs_1: np.array (n_experiments, n_users), CTRs of every user from treatment group in every experiment\n",
    "    :param weights_1: np.array (n_experiments, n_users), веса пользователей в целевой группе\n",
    "    :param n_buckets: int, кол-во бакетов\n",
    "    :return: np.array shape (n_experiments), средневзвешенные метрики в каждом бакете\n",
    "    \"\"\"\n",
    "\n",
    "    n_experiments, n_users = ctrs_0.shape\n",
    "\n",
    "    values_0 = np.zeros((n_experiments, n_buckets))\n",
    "    values_1 = np.zeros((n_experiments, n_buckets))\n",
    "\n",
    "    for b in np.arange(n_buckets):\n",
    "        ind = np.arange(b * n_users / n_buckets, b * n_users / n_buckets + n_users / n_buckets).astype(np.int32)\n",
    "        values_0[:, b] = np.median(ctrs_0[:, ind], axis=1)\n",
    "        values_1[:, b] = np.median(ctrs_1[:, ind], axis=1)\n",
    "\n",
    "    return values_0, values_1"
   ]
  },
  {
   "cell_type": "code",
   "execution_count": 55,
   "metadata": {},
   "outputs": [],
   "source": [
    "def mannwhitney_median_buckets(ctrs_0, ctrs_1, n_buckets=100):\n",
    "    return mannwhitney(*bucketization_median(ctrs_0, ctrs_1, n_buckets))"
   ]
  },
  {
   "cell_type": "code",
   "execution_count": 56,
   "metadata": {},
   "outputs": [
    {
     "data": {
      "text/plain": [
       "0.6525"
      ]
     },
     "execution_count": 56,
     "metadata": {},
     "output_type": "execute_result"
    }
   ],
   "source": [
    "np.sum(mannwhitney_median_buckets(clicks_A/group_A_views,clicks_B/group_B_views)<= 0.05) /2000"
   ]
  },
  {
   "cell_type": "markdown",
   "metadata": {},
   "source": [
    "# Открытая задача - размен \"перекрытия\" на длину выборки"
   ]
  },
  {
   "cell_type": "code",
   "execution_count": 117,
   "metadata": {},
   "outputs": [],
   "source": [
    "df = pd.read_csv('duplicates_matching.csv')"
   ]
  },
  {
   "cell_type": "code",
   "execution_count": 156,
   "metadata": {},
   "outputs": [
    {
     "data": {
      "text/html": [
       "<div>\n",
       "<style scoped>\n",
       "    .dataframe tbody tr th:only-of-type {\n",
       "        vertical-align: middle;\n",
       "    }\n",
       "\n",
       "    .dataframe tbody tr th {\n",
       "        vertical-align: top;\n",
       "    }\n",
       "\n",
       "    .dataframe thead th {\n",
       "        text-align: right;\n",
       "    }\n",
       "</style>\n",
       "<table border=\"1\" class=\"dataframe\">\n",
       "  <thead>\n",
       "    <tr style=\"text-align: right;\">\n",
       "      <th></th>\n",
       "      <th>dt</th>\n",
       "      <th>group_id</th>\n",
       "      <th>parent_nm_id</th>\n",
       "      <th>duplicate_nm_id</th>\n",
       "      <th>bucket_id</th>\n",
       "      <th>executor_login</th>\n",
       "      <th>answer</th>\n",
       "      <th>comment</th>\n",
       "    </tr>\n",
       "  </thead>\n",
       "  <tbody>\n",
       "    <tr>\n",
       "      <th>0</th>\n",
       "      <td>2024-05-03</td>\n",
       "      <td>v1_2024-05-02</td>\n",
       "      <td>d32cb006dc6fe51a8711656978f2fd6d</td>\n",
       "      <td>b54983c6c3c93f0d6e1a1796115c868f</td>\n",
       "      <td>3,4,5</td>\n",
       "      <td>2e135b08d65255fc4c0386c0c471a0b3</td>\n",
       "      <td>Дубликаты</td>\n",
       "      <td>NaN</td>\n",
       "    </tr>\n",
       "    <tr>\n",
       "      <th>1</th>\n",
       "      <td>2024-05-03</td>\n",
       "      <td>v1_2024-05-02</td>\n",
       "      <td>d32cb006dc6fe51a8711656978f2fd6d</td>\n",
       "      <td>b54983c6c3c93f0d6e1a1796115c868f</td>\n",
       "      <td>3,4,5</td>\n",
       "      <td>f028c5ec87044b4b7c7670bea1780ae5</td>\n",
       "      <td>Дубликаты</td>\n",
       "      <td>NaN</td>\n",
       "    </tr>\n",
       "    <tr>\n",
       "      <th>2</th>\n",
       "      <td>2024-05-03</td>\n",
       "      <td>v1_2024-05-02</td>\n",
       "      <td>d32cb006dc6fe51a8711656978f2fd6d</td>\n",
       "      <td>b54983c6c3c93f0d6e1a1796115c868f</td>\n",
       "      <td>3,4,5</td>\n",
       "      <td>4242a2448d1e903afaa66da1c8a83390</td>\n",
       "      <td>Дубликаты</td>\n",
       "      <td>NaN</td>\n",
       "    </tr>\n",
       "    <tr>\n",
       "      <th>3</th>\n",
       "      <td>2024-05-03</td>\n",
       "      <td>v1_2024-05-02</td>\n",
       "      <td>9177fd909644e4466b81be0544afbe95</td>\n",
       "      <td>2cc66fc06ceddeb5a7355279c420fec7</td>\n",
       "      <td>1,2</td>\n",
       "      <td>34dceb77fd160d53131640504274a25b</td>\n",
       "      <td>Скип</td>\n",
       "      <td>NaN</td>\n",
       "    </tr>\n",
       "    <tr>\n",
       "      <th>4</th>\n",
       "      <td>2024-05-03</td>\n",
       "      <td>v1_2024-05-02</td>\n",
       "      <td>9177fd909644e4466b81be0544afbe95</td>\n",
       "      <td>2cc66fc06ceddeb5a7355279c420fec7</td>\n",
       "      <td>1,2</td>\n",
       "      <td>34dceb77fd160d53131640504274a25b</td>\n",
       "      <td>Дубликаты</td>\n",
       "      <td>NaN</td>\n",
       "    </tr>\n",
       "    <tr>\n",
       "      <th>...</th>\n",
       "      <td>...</td>\n",
       "      <td>...</td>\n",
       "      <td>...</td>\n",
       "      <td>...</td>\n",
       "      <td>...</td>\n",
       "      <td>...</td>\n",
       "      <td>...</td>\n",
       "      <td>...</td>\n",
       "    </tr>\n",
       "    <tr>\n",
       "      <th>39075</th>\n",
       "      <td>2024-05-21</td>\n",
       "      <td>v1_2024_05_21</td>\n",
       "      <td>9705aa15732ce72dee21a95d02d884f2</td>\n",
       "      <td>08f3a7176bb8989a5fde0e86a0abbedb</td>\n",
       "      <td>6+</td>\n",
       "      <td>f028c5ec87044b4b7c7670bea1780ae5</td>\n",
       "      <td>Дубликаты</td>\n",
       "      <td>NaN</td>\n",
       "    </tr>\n",
       "    <tr>\n",
       "      <th>39076</th>\n",
       "      <td>2024-05-21</td>\n",
       "      <td>v1_2024_05_21</td>\n",
       "      <td>9705aa15732ce72dee21a95d02d884f2</td>\n",
       "      <td>08f3a7176bb8989a5fde0e86a0abbedb</td>\n",
       "      <td>6+</td>\n",
       "      <td>c5ba1d7ad91e7288fb4923a51a7772ba</td>\n",
       "      <td>Дубликаты</td>\n",
       "      <td>NaN</td>\n",
       "    </tr>\n",
       "    <tr>\n",
       "      <th>39077</th>\n",
       "      <td>2024-05-21</td>\n",
       "      <td>v1_2024_05_21</td>\n",
       "      <td>cd7d376386733368cbc5850a7af353f4</td>\n",
       "      <td>2a736b62d5eeb87ff24c7cdb40ff8659</td>\n",
       "      <td>6+</td>\n",
       "      <td>7ed92af1c4602e733c9d0540a94e1ce3</td>\n",
       "      <td>Дубликаты</td>\n",
       "      <td>NaN</td>\n",
       "    </tr>\n",
       "    <tr>\n",
       "      <th>39078</th>\n",
       "      <td>2024-05-21</td>\n",
       "      <td>v1_2024_05_21</td>\n",
       "      <td>cd7d376386733368cbc5850a7af353f4</td>\n",
       "      <td>2a736b62d5eeb87ff24c7cdb40ff8659</td>\n",
       "      <td>6+</td>\n",
       "      <td>152cab7a30ac4df175370d64bd6cc68c</td>\n",
       "      <td>Дубликаты</td>\n",
       "      <td>NaN</td>\n",
       "    </tr>\n",
       "    <tr>\n",
       "      <th>39079</th>\n",
       "      <td>2024-05-21</td>\n",
       "      <td>v1_2024_05_21</td>\n",
       "      <td>cd7d376386733368cbc5850a7af353f4</td>\n",
       "      <td>2a736b62d5eeb87ff24c7cdb40ff8659</td>\n",
       "      <td>6+</td>\n",
       "      <td>f028c5ec87044b4b7c7670bea1780ae5</td>\n",
       "      <td>Дубликаты</td>\n",
       "      <td>NaN</td>\n",
       "    </tr>\n",
       "  </tbody>\n",
       "</table>\n",
       "<p>39080 rows × 8 columns</p>\n",
       "</div>"
      ],
      "text/plain": [
       "               dt       group_id                      parent_nm_id  \\\n",
       "0      2024-05-03  v1_2024-05-02  d32cb006dc6fe51a8711656978f2fd6d   \n",
       "1      2024-05-03  v1_2024-05-02  d32cb006dc6fe51a8711656978f2fd6d   \n",
       "2      2024-05-03  v1_2024-05-02  d32cb006dc6fe51a8711656978f2fd6d   \n",
       "3      2024-05-03  v1_2024-05-02  9177fd909644e4466b81be0544afbe95   \n",
       "4      2024-05-03  v1_2024-05-02  9177fd909644e4466b81be0544afbe95   \n",
       "...           ...            ...                               ...   \n",
       "39075  2024-05-21  v1_2024_05_21  9705aa15732ce72dee21a95d02d884f2   \n",
       "39076  2024-05-21  v1_2024_05_21  9705aa15732ce72dee21a95d02d884f2   \n",
       "39077  2024-05-21  v1_2024_05_21  cd7d376386733368cbc5850a7af353f4   \n",
       "39078  2024-05-21  v1_2024_05_21  cd7d376386733368cbc5850a7af353f4   \n",
       "39079  2024-05-21  v1_2024_05_21  cd7d376386733368cbc5850a7af353f4   \n",
       "\n",
       "                        duplicate_nm_id bucket_id  \\\n",
       "0      b54983c6c3c93f0d6e1a1796115c868f     3,4,5   \n",
       "1      b54983c6c3c93f0d6e1a1796115c868f     3,4,5   \n",
       "2      b54983c6c3c93f0d6e1a1796115c868f     3,4,5   \n",
       "3      2cc66fc06ceddeb5a7355279c420fec7       1,2   \n",
       "4      2cc66fc06ceddeb5a7355279c420fec7       1,2   \n",
       "...                                 ...       ...   \n",
       "39075  08f3a7176bb8989a5fde0e86a0abbedb        6+   \n",
       "39076  08f3a7176bb8989a5fde0e86a0abbedb        6+   \n",
       "39077  2a736b62d5eeb87ff24c7cdb40ff8659        6+   \n",
       "39078  2a736b62d5eeb87ff24c7cdb40ff8659        6+   \n",
       "39079  2a736b62d5eeb87ff24c7cdb40ff8659        6+   \n",
       "\n",
       "                         executor_login     answer comment  \n",
       "0      2e135b08d65255fc4c0386c0c471a0b3  Дубликаты     NaN  \n",
       "1      f028c5ec87044b4b7c7670bea1780ae5  Дубликаты     NaN  \n",
       "2      4242a2448d1e903afaa66da1c8a83390  Дубликаты     NaN  \n",
       "3      34dceb77fd160d53131640504274a25b       Скип     NaN  \n",
       "4      34dceb77fd160d53131640504274a25b  Дубликаты     NaN  \n",
       "...                                 ...        ...     ...  \n",
       "39075  f028c5ec87044b4b7c7670bea1780ae5  Дубликаты     NaN  \n",
       "39076  c5ba1d7ad91e7288fb4923a51a7772ba  Дубликаты     NaN  \n",
       "39077  7ed92af1c4602e733c9d0540a94e1ce3  Дубликаты     NaN  \n",
       "39078  152cab7a30ac4df175370d64bd6cc68c  Дубликаты     NaN  \n",
       "39079  f028c5ec87044b4b7c7670bea1780ae5  Дубликаты     NaN  \n",
       "\n",
       "[39080 rows x 8 columns]"
      ]
     },
     "execution_count": 156,
     "metadata": {},
     "output_type": "execute_result"
    }
   ],
   "source": [
    "df"
   ]
  },
  {
   "cell_type": "code",
   "execution_count": 119,
   "metadata": {},
   "outputs": [
    {
     "data": {
      "text/plain": [
       "array(['Дубликаты', 'Скип', 'Не дубликаты'], dtype=object)"
      ]
     },
     "execution_count": 119,
     "metadata": {},
     "output_type": "execute_result"
    }
   ],
   "source": [
    "df.answer.unique()"
   ]
  },
  {
   "cell_type": "code",
   "execution_count": 125,
   "metadata": {},
   "outputs": [
    {
     "data": {
      "text/plain": [
       "(31859, 8)"
      ]
     },
     "execution_count": 125,
     "metadata": {},
     "output_type": "execute_result"
    }
   ],
   "source": [
    "df[df.answer!= 'Скип'].shape"
   ]
  },
  {
   "cell_type": "code",
   "execution_count": 128,
   "metadata": {},
   "outputs": [],
   "source": [
    "import duckdb"
   ]
  },
  {
   "cell_type": "code",
   "execution_count": 160,
   "metadata": {},
   "outputs": [
    {
     "name": "stderr",
     "output_type": "stream",
     "text": [
      "/var/folders/62/5kgnrj396cv9s3jb1nr9_mj40000gn/T/ipykernel_56117/3282578199.py:10: FutureWarning: DataFrame.applymap has been deprecated. Use DataFrame.map instead.\n",
      "  d[[\"image_urls\"]] = d[[ \"image_urls\"]].applymap(\n"
     ]
    },
    {
     "data": {
      "text/plain": [
       "\"{'http://basket/images/big/1.jpg', 'http://basket/images/big/2.jpg'}\""
      ]
     },
     "execution_count": 160,
     "metadata": {},
     "output_type": "execute_result"
    }
   ],
   "source": [
    "s = \"http://basket/images/big/1.jpg\"\n",
    "s2  = \"http://basket/images/big/2.jpg\"\n",
    "\n",
    "d = pd.DataFrame()\n",
    "d['url1'] = [s]\n",
    "d['url2'] = [s2]\n",
    "\n",
    "d[\"image_urls\"] = d[[\"url1\", \"url2\"]].values.tolist()\n",
    "\n",
    "d[[\"image_urls\"]] = d[[ \"image_urls\"]].applymap(\n",
    "            lambda x: str(x).replace(\"[\", \"{\").replace(\"]\", \"}\")\n",
    "        )\n",
    "d.image_urls[0]"
   ]
  },
  {
   "cell_type": "code",
   "execution_count": 137,
   "metadata": {},
   "outputs": [
    {
     "data": {
      "text/plain": [
       "<Axes: >"
      ]
     },
     "execution_count": 137,
     "metadata": {},
     "output_type": "execute_result"
    },
    {
     "data": {
      "image/png": "[encoded data removed]",
      "text/plain": [
       "<Figure size 640x480 with 1 Axes>"
      ]
     },
     "metadata": {},
     "output_type": "display_data"
    }
   ],
   "source": [
    "q = '''\n",
    "SELECT dt, avg(duplicate_flg) as duplicate_ratio\n",
    "FROM (select dt,\n",
    "        parent_nm_id, duplicate_nm_id,\n",
    "        CASE WHEN count_if(answer = 'Дубликаты') >= 2 THEN 1\n",
    "            ELSE 0 END AS duplicate_flg\n",
    "    FROM df\n",
    "    group by dt, parent_nm_id, duplicate_nm_id\n",
    "    having count(distinct answer) != 3\n",
    "        and count_if(answer = 'Скип') < 2\n",
    "    ) as a\n",
    "GROUP BY dt\n",
    "ORDER BY dt\n",
    "'''\n",
    "\n",
    "\n",
    "duckdb.query(q).to_df().plot()"
   ]
  },
  {
   "cell_type": "code",
   "execution_count": 142,
   "metadata": {},
   "outputs": [],
   "source": [
    "q = '''\n",
    "select dt,\n",
    "    parent_nm_id, duplicate_nm_id,\n",
    "    CASE WHEN count_if(answer = 'Дубликаты') >= 2 THEN 1\n",
    "        ELSE 0 END AS duplicate_flg\n",
    "FROM df\n",
    "group by dt, parent_nm_id, duplicate_nm_id\n",
    "having count(distinct answer) != 3\n",
    "    and count_if(answer = 'Скип') < 2\n",
    "'''\n",
    "\n",
    "df_for_bootstrap = duckdb.query(q).to_df()"
   ]
  },
  {
   "cell_type": "code",
   "execution_count": 143,
   "metadata": {},
   "outputs": [
    {
     "data": {
      "text/html": [
       "<div>\n",
       "<style scoped>\n",
       "    .dataframe tbody tr th:only-of-type {\n",
       "        vertical-align: middle;\n",
       "    }\n",
       "\n",
       "    .dataframe tbody tr th {\n",
       "        vertical-align: top;\n",
       "    }\n",
       "\n",
       "    .dataframe thead th {\n",
       "        text-align: right;\n",
       "    }\n",
       "</style>\n",
       "<table border=\"1\" class=\"dataframe\">\n",
       "  <thead>\n",
       "    <tr style=\"text-align: right;\">\n",
       "      <th></th>\n",
       "      <th>dt</th>\n",
       "      <th>parent_nm_id</th>\n",
       "      <th>duplicate_nm_id</th>\n",
       "      <th>duplicate_flg</th>\n",
       "    </tr>\n",
       "  </thead>\n",
       "  <tbody>\n",
       "    <tr>\n",
       "      <th>0</th>\n",
       "      <td>2024-05-03</td>\n",
       "      <td>9177fd909644e4466b81be0544afbe95</td>\n",
       "      <td>2cc66fc06ceddeb5a7355279c420fec7</td>\n",
       "      <td>1</td>\n",
       "    </tr>\n",
       "    <tr>\n",
       "      <th>1</th>\n",
       "      <td>2024-05-03</td>\n",
       "      <td>598b615c1a11df61b18d5a37b94a0372</td>\n",
       "      <td>a729d228fa62d93c198e608043568332</td>\n",
       "      <td>1</td>\n",
       "    </tr>\n",
       "    <tr>\n",
       "      <th>2</th>\n",
       "      <td>2024-05-03</td>\n",
       "      <td>8026251bd001189713a23dd0dfd3d16a</td>\n",
       "      <td>3520ddf774adaddf000c6f96c804a00c</td>\n",
       "      <td>1</td>\n",
       "    </tr>\n",
       "    <tr>\n",
       "      <th>3</th>\n",
       "      <td>2024-05-03</td>\n",
       "      <td>09fcfb238baedefbf7b89eef066d1a09</td>\n",
       "      <td>30e89dcf1b1532700828e7425d5f9d78</td>\n",
       "      <td>1</td>\n",
       "    </tr>\n",
       "    <tr>\n",
       "      <th>4</th>\n",
       "      <td>2024-05-03</td>\n",
       "      <td>53a03a3bfdc74345da8d0424d7c26cf7</td>\n",
       "      <td>ba5c5de7f05ea0064f0386dd108740ec</td>\n",
       "      <td>1</td>\n",
       "    </tr>\n",
       "    <tr>\n",
       "      <th>...</th>\n",
       "      <td>...</td>\n",
       "      <td>...</td>\n",
       "      <td>...</td>\n",
       "      <td>...</td>\n",
       "    </tr>\n",
       "    <tr>\n",
       "      <th>10496</th>\n",
       "      <td>2024-05-21</td>\n",
       "      <td>17971a03d8874d40d73b40d1e82533cf</td>\n",
       "      <td>04cb91368025220f388adaf15382cc3c</td>\n",
       "      <td>1</td>\n",
       "    </tr>\n",
       "    <tr>\n",
       "      <th>10497</th>\n",
       "      <td>2024-05-21</td>\n",
       "      <td>6f116e07408a389e87d6cdc77c304e63</td>\n",
       "      <td>8d856073fb24f1d3b9e51353f4e885ad</td>\n",
       "      <td>1</td>\n",
       "    </tr>\n",
       "    <tr>\n",
       "      <th>10498</th>\n",
       "      <td>2024-05-21</td>\n",
       "      <td>9cfe969b12f94a5f1e361090daa3c5cd</td>\n",
       "      <td>2473c897c83b9559edaaeac8a7338c78</td>\n",
       "      <td>1</td>\n",
       "    </tr>\n",
       "    <tr>\n",
       "      <th>10499</th>\n",
       "      <td>2024-05-21</td>\n",
       "      <td>c31da01f09af811873e50f2ac19f8a44</td>\n",
       "      <td>9b0c302585651b2bd4fe1b8b6c1fde2f</td>\n",
       "      <td>1</td>\n",
       "    </tr>\n",
       "    <tr>\n",
       "      <th>10500</th>\n",
       "      <td>2024-05-21</td>\n",
       "      <td>cd7d376386733368cbc5850a7af353f4</td>\n",
       "      <td>2a736b62d5eeb87ff24c7cdb40ff8659</td>\n",
       "      <td>1</td>\n",
       "    </tr>\n",
       "  </tbody>\n",
       "</table>\n",
       "<p>10501 rows × 4 columns</p>\n",
       "</div>"
      ],
      "text/plain": [
       "               dt                      parent_nm_id  \\\n",
       "0      2024-05-03  9177fd909644e4466b81be0544afbe95   \n",
       "1      2024-05-03  598b615c1a11df61b18d5a37b94a0372   \n",
       "2      2024-05-03  8026251bd001189713a23dd0dfd3d16a   \n",
       "3      2024-05-03  09fcfb238baedefbf7b89eef066d1a09   \n",
       "4      2024-05-03  53a03a3bfdc74345da8d0424d7c26cf7   \n",
       "...           ...                               ...   \n",
       "10496  2024-05-21  17971a03d8874d40d73b40d1e82533cf   \n",
       "10497  2024-05-21  6f116e07408a389e87d6cdc77c304e63   \n",
       "10498  2024-05-21  9cfe969b12f94a5f1e361090daa3c5cd   \n",
       "10499  2024-05-21  c31da01f09af811873e50f2ac19f8a44   \n",
       "10500  2024-05-21  cd7d376386733368cbc5850a7af353f4   \n",
       "\n",
       "                        duplicate_nm_id  duplicate_flg  \n",
       "0      2cc66fc06ceddeb5a7355279c420fec7              1  \n",
       "1      a729d228fa62d93c198e608043568332              1  \n",
       "2      3520ddf774adaddf000c6f96c804a00c              1  \n",
       "3      30e89dcf1b1532700828e7425d5f9d78              1  \n",
       "4      ba5c5de7f05ea0064f0386dd108740ec              1  \n",
       "...                                 ...            ...  \n",
       "10496  04cb91368025220f388adaf15382cc3c              1  \n",
       "10497  8d856073fb24f1d3b9e51353f4e885ad              1  \n",
       "10498  2473c897c83b9559edaaeac8a7338c78              1  \n",
       "10499  9b0c302585651b2bd4fe1b8b6c1fde2f              1  \n",
       "10500  2a736b62d5eeb87ff24c7cdb40ff8659              1  \n",
       "\n",
       "[10501 rows x 4 columns]"
      ]
     },
     "execution_count": 143,
     "metadata": {},
     "output_type": "execute_result"
    }
   ],
   "source": [
    "df_for_bootstrap"
   ]
  },
  {
   "cell_type": "code",
   "execution_count": 145,
   "metadata": {},
   "outputs": [],
   "source": [
    "with_cross_val = df_for_bootstrap.duplicate_flg.to_numpy()"
   ]
  },
  {
   "cell_type": "code",
   "execution_count": 155,
   "metadata": {},
   "outputs": [
    {
     "data": {
      "image/png": "[encoded data removed]",
      "text/plain": [
       "<Figure size 640x480 with 1 Axes>"
      ]
     },
     "metadata": {},
     "output_type": "display_data"
    }
   ],
   "source": [
    "_ = plt.hist(np.random.choice(with_cross_val, size = (2000,1000), replace = True).mean(axis = 1))\n",
    "_ = plt.hist(np.random.choice(no_cross_val, size = (2000,1000), replace = True).mean(axis = 1))"
   ]
  },
  {
   "cell_type": "code",
   "execution_count": 150,
   "metadata": {},
   "outputs": [],
   "source": [
    "q = '''\n",
    "SELECT dt,\n",
    "        parent_nm_id, duplicate_nm_id, answer\n",
    "FROM (select dt,\n",
    "        parent_nm_id, duplicate_nm_id, answer,\n",
    "        row_number() over (partition by dt, parent_nm_id, duplicate_nm_id\n",
    "                         order by random()) as rn\n",
    "        \n",
    "    FROM df\n",
    "    ) as a\n",
    "WHERE rn = 1\n",
    "    AND answer != 'Скип'\n",
    "'''\n",
    "\n",
    "df_for_bootstrap2 = duckdb.query(q).to_df()"
   ]
  },
  {
   "cell_type": "code",
   "execution_count": 151,
   "metadata": {},
   "outputs": [],
   "source": [
    "no_cross_val = df_for_bootstrap.duplicate_flg.to_numpy()"
   ]
  },
  {
   "cell_type": "code",
   "execution_count": 153,
   "metadata": {},
   "outputs": [
    {
     "data": {
      "image/png": "[encoded data removed]",
      "text/plain": [
       "<Figure size 640x480 with 1 Axes>"
      ]
     },
     "metadata": {},
     "output_type": "display_data"
    }
   ],
   "source": []
  },
  {
   "cell_type": "code",
   "execution_count": null,
   "metadata": {},
   "outputs": [],
   "source": []
  }
 ],
 "metadata": {
  "kernelspec": {
   "display_name": "Python 3 (ipykernel)",
   "language": "python",
   "name": "python3"
  },
  "language_info": {
   "codemirror_mode": {
    "name": "ipython",
    "version": 3
   },
   "file_extension": ".py",
   "mimetype": "text/x-python",
   "name": "python",
   "nbconvert_exporter": "python",
   "pygments_lexer": "ipython3",
   "version": "3.11.7"
  }
 },
 "nbformat": 4,
 "nbformat_minor": 4
}
